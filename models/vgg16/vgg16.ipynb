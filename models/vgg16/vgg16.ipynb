{
 "cells": [
  {
   "cell_type": "code",
   "execution_count": null,
   "metadata": {},
   "outputs": [],
   "source": [
    "import tensorflow\n",
    "from tensorflow import keras\n",
    "from keras.layers import Flatten, Dense, Dropout\n",
    "from keras.models import Model\n",
    "from tensorflow.keras.optimizers import Adam\n",
    "from keras.callbacks import ModelCheckpoint, EarlyStopping, TensorBoard\n",
    "import numpy as np"
   ]
  },
  {
   "attachments": {},
   "cell_type": "markdown",
   "metadata": {},
   "source": [
    "# Loading Data Set\n",
    "Three sets are created: training, validation, and test. \n",
    "- Labels are generated based on the folder structure.\n",
    "- Loading in batches, of size 32, to reduce memory usage.\n",
    "- Label mode is set to categorical, which means that the labels are encoded as a categorical vector.\n",
    "\n",
    "\n",
    "The image load documentation is available [here](https://keras.io/api/data_loading/image/)."
   ]
  },
  {
   "cell_type": "code",
   "execution_count": null,
   "metadata": {},
   "outputs": [],
   "source": [
    "train = keras.utils.image_dataset_from_directory(\n",
    "    directory='ds_splitted/train/', # must be updated\n",
    "    labels='inferred',\n",
    "    label_mode='categorical',\n",
    "    batch_size=32,\n",
    "    image_size=(256, 256))\n",
    "\n",
    "validation = keras.utils.image_dataset_from_directory(\n",
    "    directory='ds_splitted/val/', # must be updated\n",
    "    labels='inferred',\n",
    "    label_mode='categorical',\n",
    "    batch_size=32,\n",
    "    image_size=(256, 256))\n",
    "test = keras.utils.image_dataset_from_directory(\n",
    "    directory='ds_splitted/test/', # must be updated\n",
    "    labels='inferred',\n",
    "    label_mode='categorical',\n",
    "    batch_size=32,\n",
    "    image_size=(256, 256))"
   ]
  },
  {
   "attachments": {},
   "cell_type": "markdown",
   "metadata": {},
   "source": [
    "# Visualizing the Data"
   ]
  },
  {
   "cell_type": "code",
   "execution_count": null,
   "metadata": {},
   "outputs": [],
   "source": [
    "# histogram of class distribution in the data set\n",
    "# remove underscores from class names\n",
    "class_names = train.class_names\n",
    "class_names = [name.replace('_', ' ') for name in class_names]\n",
    "class_counts = [0]*len(class_names)\n",
    "\n",
    "# get the number of samples in each class\n",
    "for images, labels in train:\n",
    "    for i in range(len(labels)):\n",
    "        class_counts[np.argmax(labels[i])] += 1\n",
    "# plot the histogram\n",
    "plt.bar(class_names, class_counts)\n",
    "plt.xticks(rotation=90)\n",
    "plt.show()"
   ]
  },
  {
   "attachments": {},
   "cell_type": "markdown",
   "metadata": {},
   "source": [
    "# Creating the model"
   ]
  },
  {
   "cell_type": "code",
   "execution_count": null,
   "metadata": {},
   "outputs": [],
   "source": [
    "conv_base = keras.applications.VGG16(\n",
    "    include_top=False,\n",
    "    weights='imagenet',\n",
    "    pooling='max',\n",
    "    input_shape=(256, 256, 3),\n",
    ")\n",
    "for layer in conv_base.layers:\n",
    "    layer.trainable = False\n",
    "\n",
    "top_model = conv_base.output\n",
    "top_model = Flatten(name='flatten')(top_model)\n",
    "top_model = Dense(4096, activation='relu')(top_model)\n",
    "top_model = Dense(1072, activation='relu')(top_model)\n",
    "top_model = Dropout(0.2)(top_model)\n",
    "output_layer = Dense(12, activation='softmax')(top_model)"
   ]
  },
  {
   "attachments": {},
   "cell_type": "markdown",
   "metadata": {},
   "source": [
    "# Add callbacks"
   ]
  },
  {
   "cell_type": "code",
   "execution_count": null,
   "metadata": {},
   "outputs": [],
   "source": [
    "early_stop = EarlyStopping(monitor='val_loss',\n",
    "                          patience=10,\n",
    "                          restore_best_weights=True,\n",
    "                          mode='min') # !TODO: must be configured properly"
   ]
  },
  {
   "cell_type": "code",
   "execution_count": null,
   "metadata": {},
   "outputs": [],
   "source": [
    "tensorboard_callback = TensorBoard(log_dir='./logs') # !TODO: must be configured properly"
   ]
  },
  {
   "attachments": {},
   "cell_type": "markdown",
   "metadata": {},
   "source": [
    "# Compile model"
   ]
  },
  {
   "cell_type": "code",
   "execution_count": null,
   "metadata": {},
   "outputs": [],
   "source": [
    "model = Model(inputs=conv_base.input, outputs=output_layer)\n",
    "model.compile(optimizer=Adam(learning_rate=0.001), loss='categorical_crossentropy', metrics=['accuracy'])\n",
    "history = model.fit(train,\n",
    "                    epochs=10,\n",
    "                    validation_data=val,\n",
    "                    callbacks=[early_stop, tensorboard_callback])"
   ]
  }
 ],
 "metadata": {
  "kernelspec": {
   "display_name": ".venv",
   "language": "python",
   "name": "python3"
  },
  "language_info": {
   "name": "python",
   "version": "3.9.7 (tags/v3.9.7:1016ef3, Aug 30 2021, 20:19:38) [MSC v.1929 64 bit (AMD64)]"
  },
  "orig_nbformat": 4,
  "vscode": {
   "interpreter": {
    "hash": "86f4b05448bbab0049415229160d3afede7ae8067014bfe25e509d4d99fbcb02"
   }
  }
 },
 "nbformat": 4,
 "nbformat_minor": 2
}
