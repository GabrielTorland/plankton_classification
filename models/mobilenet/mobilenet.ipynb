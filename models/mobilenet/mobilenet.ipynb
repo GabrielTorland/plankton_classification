{
 "cells": [
  {
   "cell_type": "code",
   "execution_count": 1,
   "id": "21282e9e",
   "metadata": {},
   "outputs": [],
   "source": [
    "import tensorflow as tf\n",
    "from tensorflow import keras\n",
    "import matplotlib.pyplot as plt\n",
    "from mobilenet_models import create_mobilenetv3_large_model, create_mobilenetv3_small_model\n",
    "import wandb\n",
    "from wandb.keras import WandbCallback\n",
    "import os"
   ]
  },
  {
   "cell_type": "code",
   "execution_count": 2,
   "id": "93aa7aa1",
   "metadata": {},
   "outputs": [
    {
     "name": "stdout",
     "output_type": "stream",
     "text": [
      "Found 297792 files belonging to 12 classes.\n"
     ]
    },
    {
     "name": "stderr",
     "output_type": "stream",
     "text": [
      "2023-03-24 01:52:53.225110: I tensorflow/core/common_runtime/gpu/gpu_device.cc:1525] Created device /job:localhost/replica:0/task:0/device:GPU:0 with 30994 MB memory:  -> device: 0, name: Tesla V100-SXM3-32GB, pci bus id: 0000:bc:00.0, compute capability: 7.0\n"
     ]
    },
    {
     "name": "stdout",
     "output_type": "stream",
     "text": [
      "Found 37219 files belonging to 12 classes.\n"
     ]
    }
   ],
   "source": [
    "train_ds = keras.utils.image_dataset_from_directory(\n",
    "    directory=\"/home/andreaspr/plankton_classification/organized_dataset_v5/dataset/train\",\n",
    "    labels='inferred',\n",
    "    label_mode='categorical',\n",
    "    shuffle=True,\n",
    "    batch_size=32,\n",
    "    image_size=(224, 224)\n",
    "    )\n",
    "val_ds = keras.utils.image_dataset_from_directory(\n",
    "    directory=\"/home/andreaspr/plankton_classification/organized_dataset_v5/dataset/val\",\n",
    "    labels='inferred',\n",
    "    label_mode='categorical',\n",
    "    shuffle=True,\n",
    "    batch_size=32,\n",
    "    image_size=(224, 224)\n",
    "    )"
   ]
  },
  {
   "cell_type": "code",
   "execution_count": 3,
   "id": "30d0c810",
   "metadata": {},
   "outputs": [
    {
     "name": "stderr",
     "output_type": "stream",
     "text": [
      "Failed to detect the name of this notebook, you can set it manually with the WANDB_NOTEBOOK_NAME environment variable to enable code saving.\n",
      "\u001b[34m\u001b[1mwandb\u001b[0m: Currently logged in as: \u001b[33mandreaspri\u001b[0m (\u001b[33mnubs\u001b[0m). Use \u001b[1m`wandb login --relogin`\u001b[0m to force relogin\n"
     ]
    },
    {
     "data": {
      "text/html": [
       "Tracking run with wandb version 0.14.0"
      ],
      "text/plain": [
       "<IPython.core.display.HTML object>"
      ]
     },
     "metadata": {},
     "output_type": "display_data"
    },
    {
     "data": {
      "text/html": [
       "Run data is saved locally in <code>/home/andreaspr/plankton_classification/models/mobilenet/wandb/run-20230323_233131-ux8odzm8</code>"
      ],
      "text/plain": [
       "<IPython.core.display.HTML object>"
      ]
     },
     "metadata": {},
     "output_type": "display_data"
    },
    {
     "data": {
      "text/html": [
       "Syncing run <strong><a href='https://wandb.ai/nubs/MobileNet/runs/ux8odzm8' target=\"_blank\">silver-hill-1</a></strong> to <a href='https://wandb.ai/nubs/MobileNet' target=\"_blank\">Weights & Biases</a> (<a href='https://wandb.me/run' target=\"_blank\">docs</a>)<br/>"
      ],
      "text/plain": [
       "<IPython.core.display.HTML object>"
      ]
     },
     "metadata": {},
     "output_type": "display_data"
    },
    {
     "data": {
      "text/html": [
       " View project at <a href='https://wandb.ai/nubs/MobileNet' target=\"_blank\">https://wandb.ai/nubs/MobileNet</a>"
      ],
      "text/plain": [
       "<IPython.core.display.HTML object>"
      ]
     },
     "metadata": {},
     "output_type": "display_data"
    },
    {
     "data": {
      "text/html": [
       " View run at <a href='https://wandb.ai/nubs/MobileNet/runs/ux8odzm8' target=\"_blank\">https://wandb.ai/nubs/MobileNet/runs/ux8odzm8</a>"
      ],
      "text/plain": [
       "<IPython.core.display.HTML object>"
      ]
     },
     "metadata": {},
     "output_type": "display_data"
    }
   ],
   "source": [
    "# initialize wandb\n",
    "wandb.init(project=\"MobileNet\", config={\"learning_rate\": 0.001, \"epochs\": 30, \"verbose\": 1,\"name\": \"MobileNetV3Large\", \"architecture\": \"MobileNetV3Large\"})\n",
    "\n",
    "# configs\n",
    "cfg = wandb.config\n",
    "\n",
    "# create the model\n",
    "model = create_mobilenetv3_large_model(len(train_ds.class_names))"
   ]
  },
  {
   "cell_type": "code",
   "execution_count": 10,
   "id": "c7fe5aea",
   "metadata": {},
   "outputs": [],
   "source": [
    "# list of callbacks\n",
    "callbacks = [\n",
    "            WandbCallback(mode=\"min\", monitor=\"val_loss\", save_graph=True),\n",
    "            tf.keras.callbacks.ReduceLROnPlateau(monitor='val_loss', factor=0.1,\n",
    "                              patience=3, min_lr=0.00001),\n",
    "            tf.keras.callbacks.EarlyStopping(monitor='val_loss', patience=5),\n",
    "          ]"
   ]
  },
  {
   "cell_type": "code",
   "execution_count": 5,
   "id": "46546456",
   "metadata": {},
   "outputs": [
    {
     "name": "stdout",
     "output_type": "stream",
     "text": [
      "Epoch 1/30\n"
     ]
    },
    {
     "name": "stderr",
     "output_type": "stream",
     "text": [
      "2023-03-23 23:31:46.228131: I tensorflow/stream_executor/cuda/cuda_dnn.cc:377] Loaded cuDNN version 8302\n"
     ]
    },
    {
     "name": "stdout",
     "output_type": "stream",
     "text": [
      "9306/9306 [==============================] - 334s 35ms/step - loss: 0.2463 - accuracy: 0.9239 - val_loss: 0.1708 - val_accuracy: 0.9477\n"
     ]
    },
    {
     "name": "stderr",
     "output_type": "stream",
     "text": [
      "/usr/local/lib/python3.8/dist-packages/keras/utils/generic_utils.py:494: CustomMaskWarning: Custom mask layers require a config and must override get_config. When loading, the custom mask layer must be passed to the custom_objects argument.\n",
      "  warnings.warn('Custom mask layers require a config and must override '\n",
      "2023-03-23 23:37:24.536487: W tensorflow/python/util/util.cc:368] Sets are not currently considered sequences, but this may change in the future, so consider avoiding using them.\n"
     ]
    },
    {
     "name": "stdout",
     "output_type": "stream",
     "text": [
      "INFO:tensorflow:Assets written to: /home/andreaspr/plankton_classification/models/mobilenet/wandb/run-20230323_233131-ux8odzm8/files/model-best/assets\n"
     ]
    },
    {
     "name": "stderr",
     "output_type": "stream",
     "text": [
      "/usr/local/lib/python3.8/dist-packages/keras/utils/generic_utils.py:494: CustomMaskWarning: Custom mask layers require a config and must override get_config. When loading, the custom mask layer must be passed to the custom_objects argument.\n",
      "  warnings.warn('Custom mask layers require a config and must override '\n",
      "\u001b[34m\u001b[1mwandb\u001b[0m: Adding directory to artifact (/home/andreaspr/plankton_classification/models/mobilenet/wandb/run-20230323_233131-ux8odzm8/files/model-best)... Done. 0.1s\n"
     ]
    },
    {
     "name": "stdout",
     "output_type": "stream",
     "text": [
      "Epoch 2/30\n",
      "9306/9306 [==============================] - 322s 35ms/step - loss: 0.2095 - accuracy: 0.9377 - val_loss: 0.1578 - val_accuracy: 0.9531\n",
      "INFO:tensorflow:Assets written to: /home/andreaspr/plankton_classification/models/mobilenet/wandb/run-20230323_233131-ux8odzm8/files/model-best/assets\n"
     ]
    },
    {
     "name": "stderr",
     "output_type": "stream",
     "text": [
      "/usr/local/lib/python3.8/dist-packages/keras/utils/generic_utils.py:494: CustomMaskWarning: Custom mask layers require a config and must override get_config. When loading, the custom mask layer must be passed to the custom_objects argument.\n",
      "  warnings.warn('Custom mask layers require a config and must override '\n",
      "\u001b[34m\u001b[1mwandb\u001b[0m: Adding directory to artifact (/home/andreaspr/plankton_classification/models/mobilenet/wandb/run-20230323_233131-ux8odzm8/files/model-best)... Done. 0.1s\n"
     ]
    },
    {
     "name": "stdout",
     "output_type": "stream",
     "text": [
      "Epoch 3/30\n",
      "9306/9306 [==============================] - 316s 34ms/step - loss: 0.1988 - accuracy: 0.9414 - val_loss: 0.1606 - val_accuracy: 0.9536\n",
      "Epoch 4/30\n",
      "9306/9306 [==============================] - 310s 33ms/step - loss: 0.1914 - accuracy: 0.9436 - val_loss: 0.1611 - val_accuracy: 0.9535\n",
      "Epoch 5/30\n",
      "9306/9306 [==============================] - 307s 33ms/step - loss: 0.1867 - accuracy: 0.9455 - val_loss: 0.1567 - val_accuracy: 0.9557\n",
      "INFO:tensorflow:Assets written to: /home/andreaspr/plankton_classification/models/mobilenet/wandb/run-20230323_233131-ux8odzm8/files/model-best/assets\n"
     ]
    },
    {
     "name": "stderr",
     "output_type": "stream",
     "text": [
      "/usr/local/lib/python3.8/dist-packages/keras/utils/generic_utils.py:494: CustomMaskWarning: Custom mask layers require a config and must override get_config. When loading, the custom mask layer must be passed to the custom_objects argument.\n",
      "  warnings.warn('Custom mask layers require a config and must override '\n",
      "\u001b[34m\u001b[1mwandb\u001b[0m: Adding directory to artifact (/home/andreaspr/plankton_classification/models/mobilenet/wandb/run-20230323_233131-ux8odzm8/files/model-best)... Done. 0.1s\n"
     ]
    },
    {
     "name": "stdout",
     "output_type": "stream",
     "text": [
      "Epoch 6/30\n",
      "9306/9306 [==============================] - 314s 34ms/step - loss: 0.1834 - accuracy: 0.9468 - val_loss: 0.1638 - val_accuracy: 0.9547\n",
      "Epoch 7/30\n",
      "9306/9306 [==============================] - 313s 34ms/step - loss: 0.1793 - accuracy: 0.9478 - val_loss: 0.1598 - val_accuracy: 0.9555\n",
      "Epoch 8/30\n",
      "9306/9306 [==============================] - 311s 33ms/step - loss: 0.1773 - accuracy: 0.9492 - val_loss: 0.1686 - val_accuracy: 0.9563\n",
      "Epoch 9/30\n",
      "9306/9306 [==============================] - 313s 34ms/step - loss: 0.1426 - accuracy: 0.9573 - val_loss: 0.1511 - val_accuracy: 0.9613\n",
      "INFO:tensorflow:Assets written to: /home/andreaspr/plankton_classification/models/mobilenet/wandb/run-20230323_233131-ux8odzm8/files/model-best/assets\n"
     ]
    },
    {
     "name": "stderr",
     "output_type": "stream",
     "text": [
      "/usr/local/lib/python3.8/dist-packages/keras/utils/generic_utils.py:494: CustomMaskWarning: Custom mask layers require a config and must override get_config. When loading, the custom mask layer must be passed to the custom_objects argument.\n",
      "  warnings.warn('Custom mask layers require a config and must override '\n",
      "\u001b[34m\u001b[1mwandb\u001b[0m: Adding directory to artifact (/home/andreaspr/plankton_classification/models/mobilenet/wandb/run-20230323_233131-ux8odzm8/files/model-best)... Done. 0.1s\n"
     ]
    },
    {
     "name": "stdout",
     "output_type": "stream",
     "text": [
      "Epoch 10/30\n",
      "9306/9306 [==============================] - 311s 33ms/step - loss: 0.1307 - accuracy: 0.9607 - val_loss: 0.1516 - val_accuracy: 0.9616\n",
      "Epoch 11/30\n",
      "9306/9306 [==============================] - 311s 33ms/step - loss: 0.1263 - accuracy: 0.9621 - val_loss: 0.1511 - val_accuracy: 0.9617\n",
      "INFO:tensorflow:Assets written to: /home/andreaspr/plankton_classification/models/mobilenet/wandb/run-20230323_233131-ux8odzm8/files/model-best/assets\n"
     ]
    },
    {
     "name": "stderr",
     "output_type": "stream",
     "text": [
      "/usr/local/lib/python3.8/dist-packages/keras/utils/generic_utils.py:494: CustomMaskWarning: Custom mask layers require a config and must override get_config. When loading, the custom mask layer must be passed to the custom_objects argument.\n",
      "  warnings.warn('Custom mask layers require a config and must override '\n",
      "\u001b[34m\u001b[1mwandb\u001b[0m: Adding directory to artifact (/home/andreaspr/plankton_classification/models/mobilenet/wandb/run-20230323_233131-ux8odzm8/files/model-best)... Done. 0.1s\n"
     ]
    },
    {
     "name": "stdout",
     "output_type": "stream",
     "text": [
      "Epoch 12/30\n",
      "9306/9306 [==============================] - 313s 34ms/step - loss: 0.1233 - accuracy: 0.9626 - val_loss: 0.1516 - val_accuracy: 0.9618\n",
      "Epoch 13/30\n",
      "9306/9306 [==============================] - 314s 34ms/step - loss: 0.1180 - accuracy: 0.9636 - val_loss: 0.1512 - val_accuracy: 0.9619\n",
      "Epoch 14/30\n",
      "9306/9306 [==============================] - 313s 34ms/step - loss: 0.1173 - accuracy: 0.9640 - val_loss: 0.1507 - val_accuracy: 0.9620\n",
      "INFO:tensorflow:Assets written to: /home/andreaspr/plankton_classification/models/mobilenet/wandb/run-20230323_233131-ux8odzm8/files/model-best/assets\n"
     ]
    },
    {
     "name": "stderr",
     "output_type": "stream",
     "text": [
      "/usr/local/lib/python3.8/dist-packages/keras/utils/generic_utils.py:494: CustomMaskWarning: Custom mask layers require a config and must override get_config. When loading, the custom mask layer must be passed to the custom_objects argument.\n",
      "  warnings.warn('Custom mask layers require a config and must override '\n",
      "\u001b[34m\u001b[1mwandb\u001b[0m: Adding directory to artifact (/home/andreaspr/plankton_classification/models/mobilenet/wandb/run-20230323_233131-ux8odzm8/files/model-best)... Done. 0.1s\n"
     ]
    },
    {
     "name": "stdout",
     "output_type": "stream",
     "text": [
      "Epoch 15/30\n",
      "9306/9306 [==============================] - 307s 33ms/step - loss: 0.1169 - accuracy: 0.9640 - val_loss: 0.1506 - val_accuracy: 0.9624\n",
      "INFO:tensorflow:Assets written to: /home/andreaspr/plankton_classification/models/mobilenet/wandb/run-20230323_233131-ux8odzm8/files/model-best/assets\n"
     ]
    },
    {
     "name": "stderr",
     "output_type": "stream",
     "text": [
      "/usr/local/lib/python3.8/dist-packages/keras/utils/generic_utils.py:494: CustomMaskWarning: Custom mask layers require a config and must override get_config. When loading, the custom mask layer must be passed to the custom_objects argument.\n",
      "  warnings.warn('Custom mask layers require a config and must override '\n",
      "\u001b[34m\u001b[1mwandb\u001b[0m: Adding directory to artifact (/home/andreaspr/plankton_classification/models/mobilenet/wandb/run-20230323_233131-ux8odzm8/files/model-best)... Done. 0.1s\n"
     ]
    },
    {
     "name": "stdout",
     "output_type": "stream",
     "text": [
      "Epoch 16/30\n",
      "9306/9306 [==============================] - 314s 34ms/step - loss: 0.1163 - accuracy: 0.9641 - val_loss: 0.1506 - val_accuracy: 0.9621\n",
      "INFO:tensorflow:Assets written to: /home/andreaspr/plankton_classification/models/mobilenet/wandb/run-20230323_233131-ux8odzm8/files/model-best/assets\n"
     ]
    },
    {
     "name": "stderr",
     "output_type": "stream",
     "text": [
      "/usr/local/lib/python3.8/dist-packages/keras/utils/generic_utils.py:494: CustomMaskWarning: Custom mask layers require a config and must override get_config. When loading, the custom mask layer must be passed to the custom_objects argument.\n",
      "  warnings.warn('Custom mask layers require a config and must override '\n",
      "\u001b[34m\u001b[1mwandb\u001b[0m: Adding directory to artifact (/home/andreaspr/plankton_classification/models/mobilenet/wandb/run-20230323_233131-ux8odzm8/files/model-best)... Done. 0.1s\n"
     ]
    },
    {
     "name": "stdout",
     "output_type": "stream",
     "text": [
      "Epoch 17/30\n",
      "9306/9306 [==============================] - 308s 33ms/step - loss: 0.1160 - accuracy: 0.9644 - val_loss: 0.1508 - val_accuracy: 0.9621\n",
      "Epoch 18/30\n",
      "9306/9306 [==============================] - 309s 33ms/step - loss: 0.1158 - accuracy: 0.9647 - val_loss: 0.1506 - val_accuracy: 0.9623\n",
      "Epoch 19/30\n",
      "9306/9306 [==============================] - 309s 33ms/step - loss: 0.1146 - accuracy: 0.9647 - val_loss: 0.1508 - val_accuracy: 0.9622\n",
      "Epoch 20/30\n",
      "9306/9306 [==============================] - 311s 33ms/step - loss: 0.1159 - accuracy: 0.9642 - val_loss: 0.1507 - val_accuracy: 0.9622\n",
      "Epoch 21/30\n",
      "9306/9306 [==============================] - 308s 33ms/step - loss: 0.1145 - accuracy: 0.9645 - val_loss: 0.1508 - val_accuracy: 0.9622\n"
     ]
    },
    {
     "data": {
      "text/plain": [
       "<keras.callbacks.History at 0x7f4b070c9b20>"
      ]
     },
     "execution_count": 5,
     "metadata": {},
     "output_type": "execute_result"
    }
   ],
   "source": [
    "model.fit(train_ds, epochs=cfg.epochs, batch_size=32, verbose=cfg.verbose, validation_data=val_ds, callbacks=callbacks) # train the model"
   ]
  },
  {
   "cell_type": "code",
   "execution_count": 6,
   "id": "d3ba5bef",
   "metadata": {},
   "outputs": [
    {
     "data": {
      "text/html": [
       "Waiting for W&B process to finish... <strong style=\"color:green\">(success).</strong>"
      ],
      "text/plain": [
       "<IPython.core.display.HTML object>"
      ]
     },
     "metadata": {},
     "output_type": "display_data"
    },
    {
     "data": {
      "text/html": [
       "<style>\n",
       "    table.wandb td:nth-child(1) { padding: 0 10px; text-align: left ; width: auto;} td:nth-child(2) {text-align: left ; width: 100%}\n",
       "    .wandb-row { display: flex; flex-direction: row; flex-wrap: wrap; justify-content: flex-start; width: 100% }\n",
       "    .wandb-col { display: flex; flex-direction: column; flex-basis: 100%; flex: 1; padding: 10px; }\n",
       "    </style>\n",
       "<div class=\"wandb-row\"><div class=\"wandb-col\"><h3>Run history:</h3><br/><table class=\"wandb\"><tr><td>accuracy</td><td>▁▃▄▄▅▅▅▅▇▇███████████</td></tr><tr><td>epoch</td><td>▁▁▂▂▂▃▃▃▄▄▅▅▅▆▆▆▇▇▇██</td></tr><tr><td>loss</td><td>█▆▅▅▅▅▄▄▂▂▂▁▁▁▁▁▁▁▁▁▁</td></tr><tr><td>val_accuracy</td><td>▁▄▄▄▅▄▅▅▇████████████</td></tr><tr><td>val_loss</td><td>█▄▄▅▃▆▄▇▁▁▁▁▁▁▁▁▁▁▁▁▁</td></tr></table><br/></div><div class=\"wandb-col\"><h3>Run summary:</h3><br/><table class=\"wandb\"><tr><td>accuracy</td><td>0.96448</td></tr><tr><td>best_epoch</td><td>15</td></tr><tr><td>best_val_loss</td><td>0.15058</td></tr><tr><td>epoch</td><td>20</td></tr><tr><td>loss</td><td>0.11451</td></tr><tr><td>val_accuracy</td><td>0.9622</td></tr><tr><td>val_loss</td><td>0.15082</td></tr></table><br/></div></div>"
      ],
      "text/plain": [
       "<IPython.core.display.HTML object>"
      ]
     },
     "metadata": {},
     "output_type": "display_data"
    },
    {
     "data": {
      "text/html": [
       " View run <strong style=\"color:#cdcd00\">silver-hill-1</strong> at: <a href='https://wandb.ai/nubs/MobileNet/runs/ux8odzm8' target=\"_blank\">https://wandb.ai/nubs/MobileNet/runs/ux8odzm8</a><br/>Synced 5 W&B file(s), 1 media file(s), 32 artifact file(s) and 1 other file(s)"
      ],
      "text/plain": [
       "<IPython.core.display.HTML object>"
      ]
     },
     "metadata": {},
     "output_type": "display_data"
    },
    {
     "data": {
      "text/html": [
       "Find logs at: <code>./wandb/run-20230323_233131-ux8odzm8/logs</code>"
      ],
      "text/plain": [
       "<IPython.core.display.HTML object>"
      ]
     },
     "metadata": {},
     "output_type": "display_data"
    }
   ],
   "source": [
    "wandb.finish()"
   ]
  },
  {
   "cell_type": "code",
   "execution_count": 8,
   "id": "a67a4555",
   "metadata": {},
   "outputs": [
    {
     "data": {
      "text/html": [
       "Tracking run with wandb version 0.14.0"
      ],
      "text/plain": [
       "<IPython.core.display.HTML object>"
      ]
     },
     "metadata": {},
     "output_type": "display_data"
    },
    {
     "data": {
      "text/html": [
       "Run data is saved locally in <code>/home/andreaspr/plankton_classification/models/mobilenet/wandb/run-20230324_034324-yn6lu0z6</code>"
      ],
      "text/plain": [
       "<IPython.core.display.HTML object>"
      ]
     },
     "metadata": {},
     "output_type": "display_data"
    },
    {
     "data": {
      "text/html": [
       "Syncing run <strong><a href='https://wandb.ai/nubs/MobileNet/runs/yn6lu0z6' target=\"_blank\">ethereal-smoke-5</a></strong> to <a href='https://wandb.ai/nubs/MobileNet' target=\"_blank\">Weights & Biases</a> (<a href='https://wandb.me/run' target=\"_blank\">docs</a>)<br/>"
      ],
      "text/plain": [
       "<IPython.core.display.HTML object>"
      ]
     },
     "metadata": {},
     "output_type": "display_data"
    },
    {
     "data": {
      "text/html": [
       " View project at <a href='https://wandb.ai/nubs/MobileNet' target=\"_blank\">https://wandb.ai/nubs/MobileNet</a>"
      ],
      "text/plain": [
       "<IPython.core.display.HTML object>"
      ]
     },
     "metadata": {},
     "output_type": "display_data"
    },
    {
     "data": {
      "text/html": [
       " View run at <a href='https://wandb.ai/nubs/MobileNet/runs/yn6lu0z6' target=\"_blank\">https://wandb.ai/nubs/MobileNet/runs/yn6lu0z6</a>"
      ],
      "text/plain": [
       "<IPython.core.display.HTML object>"
      ]
     },
     "metadata": {},
     "output_type": "display_data"
    }
   ],
   "source": [
    "# initialize wandb\n",
    "wandb.init(project=\"MobileNet\", config={\"learning_rate\": 0.001, \"epochs\": 30, \"verbose\": 1,\"name\": \"MobileNetV3Small\", \"architecture\": \"MobileNetV3Small\"})\n",
    "\n",
    "# configs\n",
    "cfg = wandb.config\n",
    "\n",
    "# create the model\n",
    "model = create_mobilenetv3_small_model(len(train_ds.class_names))"
   ]
  },
  {
   "cell_type": "code",
   "execution_count": 11,
   "id": "c1870dfd",
   "metadata": {},
   "outputs": [
    {
     "name": "stdout",
     "output_type": "stream",
     "text": [
      "Epoch 1/30\n",
      "9306/9306 [==============================] - 290s 31ms/step - loss: 0.2427 - accuracy: 0.9249 - val_loss: 0.1717 - val_accuracy: 0.9477\n"
     ]
    },
    {
     "name": "stderr",
     "output_type": "stream",
     "text": [
      "/usr/local/lib/python3.8/dist-packages/keras/utils/generic_utils.py:494: CustomMaskWarning: Custom mask layers require a config and must override get_config. When loading, the custom mask layer must be passed to the custom_objects argument.\n",
      "  warnings.warn('Custom mask layers require a config and must override '\n"
     ]
    },
    {
     "name": "stdout",
     "output_type": "stream",
     "text": [
      "INFO:tensorflow:Assets written to: /home/andreaspr/plankton_classification/models/mobilenet/wandb/run-20230324_034324-yn6lu0z6/files/model-best/assets\n"
     ]
    },
    {
     "name": "stderr",
     "output_type": "stream",
     "text": [
      "/usr/local/lib/python3.8/dist-packages/keras/utils/generic_utils.py:494: CustomMaskWarning: Custom mask layers require a config and must override get_config. When loading, the custom mask layer must be passed to the custom_objects argument.\n",
      "  warnings.warn('Custom mask layers require a config and must override '\n",
      "\u001b[34m\u001b[1mwandb\u001b[0m: Adding directory to artifact (/home/andreaspr/plankton_classification/models/mobilenet/wandb/run-20230324_034324-yn6lu0z6/files/model-best)... Done. 0.1s\n"
     ]
    },
    {
     "name": "stdout",
     "output_type": "stream",
     "text": [
      "Epoch 2/30\n",
      "9306/9306 [==============================] - 289s 31ms/step - loss: 0.2041 - accuracy: 0.9385 - val_loss: 0.1654 - val_accuracy: 0.9515\n",
      "INFO:tensorflow:Assets written to: /home/andreaspr/plankton_classification/models/mobilenet/wandb/run-20230324_034324-yn6lu0z6/files/model-best/assets\n"
     ]
    },
    {
     "name": "stderr",
     "output_type": "stream",
     "text": [
      "/usr/local/lib/python3.8/dist-packages/keras/utils/generic_utils.py:494: CustomMaskWarning: Custom mask layers require a config and must override get_config. When loading, the custom mask layer must be passed to the custom_objects argument.\n",
      "  warnings.warn('Custom mask layers require a config and must override '\n",
      "\u001b[34m\u001b[1mwandb\u001b[0m: Adding directory to artifact (/home/andreaspr/plankton_classification/models/mobilenet/wandb/run-20230324_034324-yn6lu0z6/files/model-best)... Done. 0.1s\n"
     ]
    },
    {
     "name": "stdout",
     "output_type": "stream",
     "text": [
      "Epoch 3/30\n",
      "9306/9306 [==============================] - 286s 31ms/step - loss: 0.1938 - accuracy: 0.9424 - val_loss: 0.1597 - val_accuracy: 0.9538\n",
      "INFO:tensorflow:Assets written to: /home/andreaspr/plankton_classification/models/mobilenet/wandb/run-20230324_034324-yn6lu0z6/files/model-best/assets\n"
     ]
    },
    {
     "name": "stderr",
     "output_type": "stream",
     "text": [
      "/usr/local/lib/python3.8/dist-packages/keras/utils/generic_utils.py:494: CustomMaskWarning: Custom mask layers require a config and must override get_config. When loading, the custom mask layer must be passed to the custom_objects argument.\n",
      "  warnings.warn('Custom mask layers require a config and must override '\n",
      "\u001b[34m\u001b[1mwandb\u001b[0m: Adding directory to artifact (/home/andreaspr/plankton_classification/models/mobilenet/wandb/run-20230324_034324-yn6lu0z6/files/model-best)... Done. 0.1s\n"
     ]
    },
    {
     "name": "stdout",
     "output_type": "stream",
     "text": [
      "Epoch 4/30\n",
      "9306/9306 [==============================] - 287s 31ms/step - loss: 0.1869 - accuracy: 0.9451 - val_loss: 0.1565 - val_accuracy: 0.9546\n",
      "INFO:tensorflow:Assets written to: /home/andreaspr/plankton_classification/models/mobilenet/wandb/run-20230324_034324-yn6lu0z6/files/model-best/assets\n"
     ]
    },
    {
     "name": "stderr",
     "output_type": "stream",
     "text": [
      "/usr/local/lib/python3.8/dist-packages/keras/utils/generic_utils.py:494: CustomMaskWarning: Custom mask layers require a config and must override get_config. When loading, the custom mask layer must be passed to the custom_objects argument.\n",
      "  warnings.warn('Custom mask layers require a config and must override '\n",
      "\u001b[34m\u001b[1mwandb\u001b[0m: Adding directory to artifact (/home/andreaspr/plankton_classification/models/mobilenet/wandb/run-20230324_034324-yn6lu0z6/files/model-best)... Done. 0.1s\n"
     ]
    },
    {
     "name": "stdout",
     "output_type": "stream",
     "text": [
      "Epoch 5/30\n",
      "9306/9306 [==============================] - 284s 31ms/step - loss: 0.1823 - accuracy: 0.9464 - val_loss: 0.1647 - val_accuracy: 0.9555\n",
      "Epoch 6/30\n",
      "9306/9306 [==============================] - 284s 30ms/step - loss: 0.1777 - accuracy: 0.9481 - val_loss: 0.1588 - val_accuracy: 0.9560\n",
      "Epoch 7/30\n",
      "9306/9306 [==============================] - 286s 31ms/step - loss: 0.1739 - accuracy: 0.9494 - val_loss: 0.1622 - val_accuracy: 0.9567\n",
      "Epoch 8/30\n",
      "9306/9306 [==============================] - 262s 28ms/step - loss: 0.1406 - accuracy: 0.9582 - val_loss: 0.1467 - val_accuracy: 0.9603\n",
      "INFO:tensorflow:Assets written to: /home/andreaspr/plankton_classification/models/mobilenet/wandb/run-20230324_034324-yn6lu0z6/files/model-best/assets\n"
     ]
    },
    {
     "name": "stderr",
     "output_type": "stream",
     "text": [
      "/usr/local/lib/python3.8/dist-packages/keras/utils/generic_utils.py:494: CustomMaskWarning: Custom mask layers require a config and must override get_config. When loading, the custom mask layer must be passed to the custom_objects argument.\n",
      "  warnings.warn('Custom mask layers require a config and must override '\n",
      "\u001b[34m\u001b[1mwandb\u001b[0m: Adding directory to artifact (/home/andreaspr/plankton_classification/models/mobilenet/wandb/run-20230324_034324-yn6lu0z6/files/model-best)... Done. 0.1s\n"
     ]
    },
    {
     "name": "stdout",
     "output_type": "stream",
     "text": [
      "Epoch 9/30\n",
      "9306/9306 [==============================] - 264s 28ms/step - loss: 0.1304 - accuracy: 0.9611 - val_loss: 0.1460 - val_accuracy: 0.9611\n",
      "INFO:tensorflow:Assets written to: /home/andreaspr/plankton_classification/models/mobilenet/wandb/run-20230324_034324-yn6lu0z6/files/model-best/assets\n"
     ]
    },
    {
     "name": "stderr",
     "output_type": "stream",
     "text": [
      "/usr/local/lib/python3.8/dist-packages/keras/utils/generic_utils.py:494: CustomMaskWarning: Custom mask layers require a config and must override get_config. When loading, the custom mask layer must be passed to the custom_objects argument.\n",
      "  warnings.warn('Custom mask layers require a config and must override '\n",
      "\u001b[34m\u001b[1mwandb\u001b[0m: Adding directory to artifact (/home/andreaspr/plankton_classification/models/mobilenet/wandb/run-20230324_034324-yn6lu0z6/files/model-best)... Done. 0.1s\n"
     ]
    },
    {
     "name": "stdout",
     "output_type": "stream",
     "text": [
      "Epoch 10/30\n",
      "9306/9306 [==============================] - 265s 28ms/step - loss: 0.1259 - accuracy: 0.9620 - val_loss: 0.1479 - val_accuracy: 0.9611\n",
      "Epoch 11/30\n",
      "9306/9306 [==============================] - 255s 27ms/step - loss: 0.1224 - accuracy: 0.9631 - val_loss: 0.1479 - val_accuracy: 0.9615\n",
      "Epoch 12/30\n",
      "9306/9306 [==============================] - 260s 28ms/step - loss: 0.1192 - accuracy: 0.9639 - val_loss: 0.1483 - val_accuracy: 0.9611\n",
      "Epoch 13/30\n",
      "9306/9306 [==============================] - 253s 27ms/step - loss: 0.1149 - accuracy: 0.9650 - val_loss: 0.1469 - val_accuracy: 0.9614\n",
      "Epoch 14/30\n",
      "9306/9306 [==============================] - 256s 27ms/step - loss: 0.1136 - accuracy: 0.9652 - val_loss: 0.1466 - val_accuracy: 0.9617\n",
      "Epoch 15/30\n",
      "9306/9306 [==============================] - 255s 27ms/step - loss: 0.1134 - accuracy: 0.9653 - val_loss: 0.1467 - val_accuracy: 0.9617\n",
      "Epoch 16/30\n",
      "9306/9306 [==============================] - 255s 27ms/step - loss: 0.1135 - accuracy: 0.9652 - val_loss: 0.1465 - val_accuracy: 0.9618\n",
      "Epoch 17/30\n",
      "9306/9306 [==============================] - 255s 27ms/step - loss: 0.1126 - accuracy: 0.9653 - val_loss: 0.1465 - val_accuracy: 0.9618\n",
      "Epoch 18/30\n",
      "9306/9306 [==============================] - 256s 28ms/step - loss: 0.1114 - accuracy: 0.9658 - val_loss: 0.1465 - val_accuracy: 0.9617\n",
      "Epoch 19/30\n",
      "9306/9306 [==============================] - 254s 27ms/step - loss: 0.1118 - accuracy: 0.9659 - val_loss: 0.1466 - val_accuracy: 0.9618\n"
     ]
    },
    {
     "data": {
      "text/plain": [
       "<keras.callbacks.History at 0x7efd7859bac0>"
      ]
     },
     "execution_count": 11,
     "metadata": {},
     "output_type": "execute_result"
    }
   ],
   "source": [
    "model.fit(train_ds, epochs=cfg.epochs, batch_size=32, verbose=cfg.verbose, validation_data=val_ds, callbacks=callbacks) # train the model"
   ]
  },
  {
   "cell_type": "code",
   "execution_count": 12,
   "id": "893bf6ba",
   "metadata": {},
   "outputs": [
    {
     "data": {
      "text/html": [
       "Waiting for W&B process to finish... <strong style=\"color:green\">(success).</strong>"
      ],
      "text/plain": [
       "<IPython.core.display.HTML object>"
      ]
     },
     "metadata": {},
     "output_type": "display_data"
    },
    {
     "data": {
      "text/html": [
       "<style>\n",
       "    table.wandb td:nth-child(1) { padding: 0 10px; text-align: left ; width: auto;} td:nth-child(2) {text-align: left ; width: 100%}\n",
       "    .wandb-row { display: flex; flex-direction: row; flex-wrap: wrap; justify-content: flex-start; width: 100% }\n",
       "    .wandb-col { display: flex; flex-direction: column; flex-basis: 100%; flex: 1; padding: 10px; }\n",
       "    </style>\n",
       "<div class=\"wandb-row\"><div class=\"wandb-col\"><h3>Run history:</h3><br/><table class=\"wandb\"><tr><td>accuracy</td><td>▁▃▄▄▅▅▅▇▇▇█████████</td></tr><tr><td>epoch</td><td>▁▁▂▂▃▃▃▄▄▅▅▅▆▆▆▇▇██</td></tr><tr><td>loss</td><td>█▆▅▅▅▅▄▃▂▂▂▁▁▁▁▁▁▁▁</td></tr><tr><td>val_accuracy</td><td>▁▃▄▄▅▅▅▇███████████</td></tr><tr><td>val_loss</td><td>█▆▅▄▆▅▅▁▁▂▂▂▁▁▁▁▁▁▁</td></tr></table><br/></div><div class=\"wandb-col\"><h3>Run summary:</h3><br/><table class=\"wandb\"><tr><td>accuracy</td><td>0.96589</td></tr><tr><td>best_epoch</td><td>8</td></tr><tr><td>best_val_loss</td><td>0.14602</td></tr><tr><td>epoch</td><td>18</td></tr><tr><td>loss</td><td>0.11177</td></tr><tr><td>val_accuracy</td><td>0.96182</td></tr><tr><td>val_loss</td><td>0.14662</td></tr></table><br/></div></div>"
      ],
      "text/plain": [
       "<IPython.core.display.HTML object>"
      ]
     },
     "metadata": {},
     "output_type": "display_data"
    },
    {
     "data": {
      "text/html": [
       " View run <strong style=\"color:#cdcd00\">ethereal-smoke-5</strong> at: <a href='https://wandb.ai/nubs/MobileNet/runs/yn6lu0z6' target=\"_blank\">https://wandb.ai/nubs/MobileNet/runs/yn6lu0z6</a><br/>Synced 5 W&B file(s), 1 media file(s), 24 artifact file(s) and 1 other file(s)"
      ],
      "text/plain": [
       "<IPython.core.display.HTML object>"
      ]
     },
     "metadata": {},
     "output_type": "display_data"
    },
    {
     "data": {
      "text/html": [
       "Find logs at: <code>./wandb/run-20230324_034324-yn6lu0z6/logs</code>"
      ],
      "text/plain": [
       "<IPython.core.display.HTML object>"
      ]
     },
     "metadata": {},
     "output_type": "display_data"
    }
   ],
   "source": [
    "wandb.finish()"
   ]
  }
 ],
 "metadata": {
  "kernelspec": {
   "display_name": "Python 3 (ipykernel)",
   "language": "python",
   "name": "python3"
  },
  "language_info": {
   "codemirror_mode": {
    "name": "ipython",
    "version": 3
   },
   "file_extension": ".py",
   "mimetype": "text/x-python",
   "name": "python",
   "nbconvert_exporter": "python",
   "pygments_lexer": "ipython3",
   "version": "3.8.10"
  }
 },
 "nbformat": 4,
 "nbformat_minor": 5
}
