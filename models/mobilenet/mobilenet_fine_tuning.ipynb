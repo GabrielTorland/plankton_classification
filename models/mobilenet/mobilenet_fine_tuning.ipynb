{
 "cells": [
  {
   "cell_type": "code",
   "execution_count": 1,
   "id": "940a659e",
   "metadata": {},
   "outputs": [],
   "source": [
    "import tensorflow as tf\n",
    "from tensorflow import keras\n",
    "import matplotlib.pyplot as plt\n",
    "from mobilenet_models import create_mobilenetv3_large_model_no_fc, create_mobilenetv3_small_model_no_fc\n",
    "import wandb\n",
    "from wandb.keras import WandbCallback\n",
    "import os"
   ]
  },
  {
   "cell_type": "code",
   "execution_count": 2,
   "id": "8f562beb",
   "metadata": {},
   "outputs": [
    {
     "name": "stdout",
     "output_type": "stream",
     "text": [
      "Found 430967 files belonging to 12 classes.\n"
     ]
    },
    {
     "name": "stderr",
     "output_type": "stream",
     "text": [
      "2023-04-08 04:48:12.799820: I tensorflow/core/common_runtime/gpu/gpu_device.cc:1525] Created device /job:localhost/replica:0/task:0/device:GPU:0 with 30994 MB memory:  -> device: 0, name: Tesla V100-SXM3-32GB, pci bus id: 0000:bc:00.0, compute capability: 7.0\n"
     ]
    },
    {
     "name": "stdout",
     "output_type": "stream",
     "text": [
      "Found 37219 files belonging to 12 classes.\n"
     ]
    }
   ],
   "source": [
    "train_ds = keras.utils.image_dataset_from_directory(\n",
    "    directory=\"/home/andreaspr/plankton_classification/organized_dataset_v7/dataset/train\",\n",
    "    labels='inferred',\n",
    "    label_mode='categorical',\n",
    "    shuffle=True,\n",
    "    batch_size=32,\n",
    "    image_size=(224, 224)\n",
    "    )\n",
    "val_ds = keras.utils.image_dataset_from_directory(\n",
    "    directory=\"/home/andreaspr/plankton_classification/organized_dataset_v7/dataset/val\",\n",
    "    labels='inferred',\n",
    "    label_mode='categorical',\n",
    "    shuffle=True,\n",
    "    batch_size=32,\n",
    "    image_size=(224, 224)\n",
    "    )"
   ]
  },
  {
   "cell_type": "code",
   "execution_count": 3,
   "id": "ec0e90f5",
   "metadata": {},
   "outputs": [
    {
     "name": "stderr",
     "output_type": "stream",
     "text": [
      "Failed to detect the name of this notebook, you can set it manually with the WANDB_NOTEBOOK_NAME environment variable to enable code saving.\n",
      "\u001b[34m\u001b[1mwandb\u001b[0m: Currently logged in as: \u001b[33mandreaspri\u001b[0m (\u001b[33mnubs\u001b[0m). Use \u001b[1m`wandb login --relogin`\u001b[0m to force relogin\n"
     ]
    },
    {
     "data": {
      "text/html": [
       "wandb version 0.14.2 is available!  To upgrade, please run:\n",
       " $ pip install wandb --upgrade"
      ],
      "text/plain": [
       "<IPython.core.display.HTML object>"
      ]
     },
     "metadata": {},
     "output_type": "display_data"
    },
    {
     "data": {
      "text/html": [
       "Tracking run with wandb version 0.14.0"
      ],
      "text/plain": [
       "<IPython.core.display.HTML object>"
      ]
     },
     "metadata": {},
     "output_type": "display_data"
    },
    {
     "data": {
      "text/html": [
       "Run data is saved locally in <code>/home/andreaspr/plankton_classification/models/mobilenet/wandb/run-20230408_044816-et273r7l</code>"
      ],
      "text/plain": [
       "<IPython.core.display.HTML object>"
      ]
     },
     "metadata": {},
     "output_type": "display_data"
    },
    {
     "data": {
      "text/html": [
       "Syncing run <strong><a href='https://wandb.ai/nubs/MobileNetFineTune/runs/et273r7l' target=\"_blank\">denim-water-1</a></strong> to <a href='https://wandb.ai/nubs/MobileNetFineTune' target=\"_blank\">Weights & Biases</a> (<a href='https://wandb.me/run' target=\"_blank\">docs</a>)<br/>"
      ],
      "text/plain": [
       "<IPython.core.display.HTML object>"
      ]
     },
     "metadata": {},
     "output_type": "display_data"
    },
    {
     "data": {
      "text/html": [
       " View project at <a href='https://wandb.ai/nubs/MobileNetFineTune' target=\"_blank\">https://wandb.ai/nubs/MobileNetFineTune</a>"
      ],
      "text/plain": [
       "<IPython.core.display.HTML object>"
      ]
     },
     "metadata": {},
     "output_type": "display_data"
    },
    {
     "data": {
      "text/html": [
       " View run at <a href='https://wandb.ai/nubs/MobileNetFineTune/runs/et273r7l' target=\"_blank\">https://wandb.ai/nubs/MobileNetFineTune/runs/et273r7l</a>"
      ],
      "text/plain": [
       "<IPython.core.display.HTML object>"
      ]
     },
     "metadata": {},
     "output_type": "display_data"
    }
   ],
   "source": [
    "# initialize wandb\n",
    "wandb.init(project=\"MobileNetFineTune\", config={\"learning_rate\": 0.001, \"epochs\": 30, \"verbose\": 1,\"name\": \"MobileNetV3Large\", \"architecture\": \"MobileNetV3Large\"})\n",
    "\n",
    "# configs\n",
    "cfg = wandb.config\n",
    "\n",
    "# create the model\n",
    "model = create_mobilenetv3_large_model_no_fc(len(train_ds.class_names))"
   ]
  },
  {
   "cell_type": "code",
   "execution_count": 4,
   "id": "55d67300",
   "metadata": {},
   "outputs": [
    {
     "name": "stderr",
     "output_type": "stream",
     "text": [
      "\u001b[34m\u001b[1mwandb\u001b[0m: \u001b[33mWARNING\u001b[0m The save_model argument by default saves the model in the HDF5 format that cannot save custom objects like subclassed models and custom layers. This behavior will be deprecated in a future release in favor of the SavedModel format. Meanwhile, the HDF5 model is saved as W&B files and the SavedModel as W&B Artifacts.\n"
     ]
    }
   ],
   "source": [
    "# list of callbacks\n",
    "callbacks = [\n",
    "            WandbCallback(mode=\"min\", monitor=\"val_loss\", save_graph=True),\n",
    "            tf.keras.callbacks.ReduceLROnPlateau(monitor='val_loss', factor=0.1,\n",
    "                              patience=3, min_lr=0.00001),\n",
    "            tf.keras.callbacks.EarlyStopping(monitor='val_loss', patience=5),\n",
    "          ]"
   ]
  },
  {
   "cell_type": "code",
   "execution_count": 5,
   "id": "c066808e",
   "metadata": {},
   "outputs": [
    {
     "name": "stdout",
     "output_type": "stream",
     "text": [
      "Epoch 1/30\n"
     ]
    },
    {
     "name": "stderr",
     "output_type": "stream",
     "text": [
      "2023-04-08 04:48:32.693392: I tensorflow/stream_executor/cuda/cuda_dnn.cc:377] Loaded cuDNN version 8302\n"
     ]
    },
    {
     "name": "stdout",
     "output_type": "stream",
     "text": [
      "13468/13468 [==============================] - 1686s 125ms/step - loss: 0.2380 - accuracy: 0.9223 - val_loss: 0.6825 - val_accuracy: 0.8459\n"
     ]
    },
    {
     "name": "stderr",
     "output_type": "stream",
     "text": [
      "/usr/local/lib/python3.8/dist-packages/keras/utils/generic_utils.py:494: CustomMaskWarning: Custom mask layers require a config and must override get_config. When loading, the custom mask layer must be passed to the custom_objects argument.\n",
      "  warnings.warn('Custom mask layers require a config and must override '\n",
      "2023-04-08 05:16:39.962876: W tensorflow/python/util/util.cc:368] Sets are not currently considered sequences, but this may change in the future, so consider avoiding using them.\n"
     ]
    },
    {
     "name": "stdout",
     "output_type": "stream",
     "text": [
      "INFO:tensorflow:Assets written to: /home/andreaspr/plankton_classification/models/mobilenet/wandb/run-20230408_044816-et273r7l/files/model-best/assets\n"
     ]
    },
    {
     "name": "stderr",
     "output_type": "stream",
     "text": [
      "/usr/local/lib/python3.8/dist-packages/keras/utils/generic_utils.py:494: CustomMaskWarning: Custom mask layers require a config and must override get_config. When loading, the custom mask layer must be passed to the custom_objects argument.\n",
      "  warnings.warn('Custom mask layers require a config and must override '\n",
      "\u001b[34m\u001b[1mwandb\u001b[0m: Adding directory to artifact (/home/andreaspr/plankton_classification/models/mobilenet/wandb/run-20230408_044816-et273r7l/files/model-best)... Done. 0.2s\n"
     ]
    },
    {
     "name": "stdout",
     "output_type": "stream",
     "text": [
      "Epoch 2/30\n",
      "13468/13468 [==============================] - 1679s 125ms/step - loss: 0.1607 - accuracy: 0.9470 - val_loss: 0.8367 - val_accuracy: 0.7714\n",
      "Epoch 3/30\n",
      "13468/13468 [==============================] - 1670s 124ms/step - loss: 0.1354 - accuracy: 0.9549 - val_loss: 0.2016 - val_accuracy: 0.9355\n",
      "INFO:tensorflow:Assets written to: /home/andreaspr/plankton_classification/models/mobilenet/wandb/run-20230408_044816-et273r7l/files/model-best/assets\n"
     ]
    },
    {
     "name": "stderr",
     "output_type": "stream",
     "text": [
      "/usr/local/lib/python3.8/dist-packages/keras/utils/generic_utils.py:494: CustomMaskWarning: Custom mask layers require a config and must override get_config. When loading, the custom mask layer must be passed to the custom_objects argument.\n",
      "  warnings.warn('Custom mask layers require a config and must override '\n",
      "\u001b[34m\u001b[1mwandb\u001b[0m: Adding directory to artifact (/home/andreaspr/plankton_classification/models/mobilenet/wandb/run-20230408_044816-et273r7l/files/model-best)... Done. 0.2s\n"
     ]
    },
    {
     "name": "stdout",
     "output_type": "stream",
     "text": [
      "Epoch 4/30\n",
      "13468/13468 [==============================] - 1683s 125ms/step - loss: 0.1170 - accuracy: 0.9609 - val_loss: 2.2000 - val_accuracy: 0.5537\n",
      "Epoch 5/30\n",
      "13468/13468 [==============================] - 1687s 125ms/step - loss: 0.1040 - accuracy: 0.9651 - val_loss: 2.5248 - val_accuracy: 0.4961\n",
      "Epoch 6/30\n",
      "13468/13468 [==============================] - 1683s 125ms/step - loss: 0.0935 - accuracy: 0.9689 - val_loss: 3.9659 - val_accuracy: 0.3655\n",
      "Epoch 7/30\n",
      "13468/13468 [==============================] - 1654s 123ms/step - loss: 0.0534 - accuracy: 0.9821 - val_loss: 0.1469 - val_accuracy: 0.9606\n",
      "INFO:tensorflow:Assets written to: /home/andreaspr/plankton_classification/models/mobilenet/wandb/run-20230408_044816-et273r7l/files/model-best/assets\n"
     ]
    },
    {
     "name": "stderr",
     "output_type": "stream",
     "text": [
      "/usr/local/lib/python3.8/dist-packages/keras/utils/generic_utils.py:494: CustomMaskWarning: Custom mask layers require a config and must override get_config. When loading, the custom mask layer must be passed to the custom_objects argument.\n",
      "  warnings.warn('Custom mask layers require a config and must override '\n",
      "\u001b[34m\u001b[1mwandb\u001b[0m: Adding directory to artifact (/home/andreaspr/plankton_classification/models/mobilenet/wandb/run-20230408_044816-et273r7l/files/model-best)... Done. 0.2s\n"
     ]
    },
    {
     "name": "stdout",
     "output_type": "stream",
     "text": [
      "Epoch 8/30\n",
      "13468/13468 [==============================] - 1657s 123ms/step - loss: 0.0403 - accuracy: 0.9866 - val_loss: 0.1720 - val_accuracy: 0.9544\n",
      "Epoch 9/30\n",
      "13468/13468 [==============================] - 1658s 123ms/step - loss: 0.0326 - accuracy: 0.9891 - val_loss: 0.2237 - val_accuracy: 0.9437\n",
      "Epoch 10/30\n",
      "13468/13468 [==============================] - 1659s 123ms/step - loss: 0.0267 - accuracy: 0.9912 - val_loss: 0.3039 - val_accuracy: 0.9282\n",
      "Epoch 11/30\n",
      "13468/13468 [==============================] - 1657s 123ms/step - loss: 0.0203 - accuracy: 0.9934 - val_loss: 0.1355 - val_accuracy: 0.9715\n",
      "INFO:tensorflow:Assets written to: /home/andreaspr/plankton_classification/models/mobilenet/wandb/run-20230408_044816-et273r7l/files/model-best/assets\n"
     ]
    },
    {
     "name": "stderr",
     "output_type": "stream",
     "text": [
      "/usr/local/lib/python3.8/dist-packages/keras/utils/generic_utils.py:494: CustomMaskWarning: Custom mask layers require a config and must override get_config. When loading, the custom mask layer must be passed to the custom_objects argument.\n",
      "  warnings.warn('Custom mask layers require a config and must override '\n",
      "\u001b[34m\u001b[1mwandb\u001b[0m: Adding directory to artifact (/home/andreaspr/plankton_classification/models/mobilenet/wandb/run-20230408_044816-et273r7l/files/model-best)... Done. 0.2s\n"
     ]
    },
    {
     "name": "stdout",
     "output_type": "stream",
     "text": [
      "Epoch 12/30\n",
      "13468/13468 [==============================] - 1656s 123ms/step - loss: 0.0187 - accuracy: 0.9940 - val_loss: 0.1374 - val_accuracy: 0.9710\n",
      "Epoch 13/30\n",
      "13468/13468 [==============================] - 1657s 123ms/step - loss: 0.0180 - accuracy: 0.9944 - val_loss: 0.1396 - val_accuracy: 0.9712\n",
      "Epoch 14/30\n",
      "13468/13468 [==============================] - 1664s 124ms/step - loss: 0.0171 - accuracy: 0.9945 - val_loss: 0.1414 - val_accuracy: 0.9711\n",
      "Epoch 15/30\n",
      "13468/13468 [==============================] - 1668s 124ms/step - loss: 0.0164 - accuracy: 0.9949 - val_loss: 0.1433 - val_accuracy: 0.9710\n",
      "Epoch 16/30\n",
      "13468/13468 [==============================] - 1668s 124ms/step - loss: 0.0159 - accuracy: 0.9950 - val_loss: 0.1455 - val_accuracy: 0.9709\n"
     ]
    },
    {
     "data": {
      "text/plain": [
       "<keras.callbacks.History at 0x7fbef811bcd0>"
      ]
     },
     "execution_count": 5,
     "metadata": {},
     "output_type": "execute_result"
    }
   ],
   "source": [
    "model.fit(train_ds, epochs=cfg.epochs, batch_size=32, verbose=cfg.verbose, validation_data=val_ds, callbacks=callbacks) # train the model"
   ]
  },
  {
   "cell_type": "code",
   "execution_count": 6,
   "id": "cc4f2652",
   "metadata": {},
   "outputs": [
    {
     "data": {
      "text/html": [
       "Waiting for W&B process to finish... <strong style=\"color:green\">(success).</strong>"
      ],
      "text/plain": [
       "<IPython.core.display.HTML object>"
      ]
     },
     "metadata": {},
     "output_type": "display_data"
    },
    {
     "data": {
      "text/html": [
       "<style>\n",
       "    table.wandb td:nth-child(1) { padding: 0 10px; text-align: left ; width: auto;} td:nth-child(2) {text-align: left ; width: 100%}\n",
       "    .wandb-row { display: flex; flex-direction: row; flex-wrap: wrap; justify-content: flex-start; width: 100% }\n",
       "    .wandb-col { display: flex; flex-direction: column; flex-basis: 100%; flex: 1; padding: 10px; }\n",
       "    </style>\n",
       "<div class=\"wandb-row\"><div class=\"wandb-col\"><h3>Run history:</h3><br/><table class=\"wandb\"><tr><td>accuracy</td><td>▁▃▄▅▅▅▇▇▇███████</td></tr><tr><td>epoch</td><td>▁▁▂▂▃▃▄▄▅▅▆▆▇▇██</td></tr><tr><td>loss</td><td>█▆▅▄▄▃▂▂▂▁▁▁▁▁▁▁</td></tr><tr><td>val_accuracy</td><td>▇▆█▃▃▁███▇██████</td></tr><tr><td>val_loss</td><td>▂▂▁▅▅█▁▁▁▁▁▁▁▁▁▁</td></tr></table><br/></div><div class=\"wandb-col\"><h3>Run summary:</h3><br/><table class=\"wandb\"><tr><td>accuracy</td><td>0.99502</td></tr><tr><td>best_epoch</td><td>10</td></tr><tr><td>best_val_loss</td><td>0.13552</td></tr><tr><td>epoch</td><td>15</td></tr><tr><td>loss</td><td>0.0159</td></tr><tr><td>val_accuracy</td><td>0.9709</td></tr><tr><td>val_loss</td><td>0.14549</td></tr></table><br/></div></div>"
      ],
      "text/plain": [
       "<IPython.core.display.HTML object>"
      ]
     },
     "metadata": {},
     "output_type": "display_data"
    },
    {
     "data": {
      "text/html": [
       " View run <strong style=\"color:#cdcd00\">denim-water-1</strong> at: <a href='https://wandb.ai/nubs/MobileNetFineTune/runs/et273r7l' target=\"_blank\">https://wandb.ai/nubs/MobileNetFineTune/runs/et273r7l</a><br/>Synced 5 W&B file(s), 1 media file(s), 16 artifact file(s) and 1 other file(s)"
      ],
      "text/plain": [
       "<IPython.core.display.HTML object>"
      ]
     },
     "metadata": {},
     "output_type": "display_data"
    },
    {
     "data": {
      "text/html": [
       "Find logs at: <code>./wandb/run-20230408_044816-et273r7l/logs</code>"
      ],
      "text/plain": [
       "<IPython.core.display.HTML object>"
      ]
     },
     "metadata": {},
     "output_type": "display_data"
    }
   ],
   "source": [
    "wandb.finish()"
   ]
  },
  {
   "cell_type": "code",
   "execution_count": 7,
   "id": "f13e0709",
   "metadata": {},
   "outputs": [
    {
     "data": {
      "text/html": [
       "wandb version 0.14.2 is available!  To upgrade, please run:\n",
       " $ pip install wandb --upgrade"
      ],
      "text/plain": [
       "<IPython.core.display.HTML object>"
      ]
     },
     "metadata": {},
     "output_type": "display_data"
    },
    {
     "data": {
      "text/html": [
       "Tracking run with wandb version 0.14.0"
      ],
      "text/plain": [
       "<IPython.core.display.HTML object>"
      ]
     },
     "metadata": {},
     "output_type": "display_data"
    },
    {
     "data": {
      "text/html": [
       "Run data is saved locally in <code>/home/andreaspr/plankton_classification/models/mobilenet/wandb/run-20230408_121445-u8c5yti9</code>"
      ],
      "text/plain": [
       "<IPython.core.display.HTML object>"
      ]
     },
     "metadata": {},
     "output_type": "display_data"
    },
    {
     "data": {
      "text/html": [
       "Syncing run <strong><a href='https://wandb.ai/nubs/MobileNetFineTune/runs/u8c5yti9' target=\"_blank\">misty-hill-2</a></strong> to <a href='https://wandb.ai/nubs/MobileNetFineTune' target=\"_blank\">Weights & Biases</a> (<a href='https://wandb.me/run' target=\"_blank\">docs</a>)<br/>"
      ],
      "text/plain": [
       "<IPython.core.display.HTML object>"
      ]
     },
     "metadata": {},
     "output_type": "display_data"
    },
    {
     "data": {
      "text/html": [
       " View project at <a href='https://wandb.ai/nubs/MobileNetFineTune' target=\"_blank\">https://wandb.ai/nubs/MobileNetFineTune</a>"
      ],
      "text/plain": [
       "<IPython.core.display.HTML object>"
      ]
     },
     "metadata": {},
     "output_type": "display_data"
    },
    {
     "data": {
      "text/html": [
       " View run at <a href='https://wandb.ai/nubs/MobileNetFineTune/runs/u8c5yti9' target=\"_blank\">https://wandb.ai/nubs/MobileNetFineTune/runs/u8c5yti9</a>"
      ],
      "text/plain": [
       "<IPython.core.display.HTML object>"
      ]
     },
     "metadata": {},
     "output_type": "display_data"
    }
   ],
   "source": [
    "# initialize wandb\n",
    "wandb.init(project=\"MobileNetFineTune\", config={\"learning_rate\": 0.001, \"epochs\": 30, \"verbose\": 1,\"name\": \"MobileNetV3Small\", \"architecture\": \"MobileNetV3Small\"})\n",
    "\n",
    "# configs\n",
    "cfg = wandb.config\n",
    "\n",
    "# create the model\n",
    "model = create_mobilenetv3_small_model_no_fc(len(train_ds.class_names))"
   ]
  },
  {
   "cell_type": "code",
   "execution_count": 8,
   "id": "29b4cbad",
   "metadata": {},
   "outputs": [
    {
     "name": "stdout",
     "output_type": "stream",
     "text": [
      "Epoch 1/30\n",
      "13468/13468 [==============================] - 792s 58ms/step - loss: 0.2315 - accuracy: 0.9230 - val_loss: 0.1646 - val_accuracy: 0.9509\n",
      "Epoch 2/30\n",
      "13468/13468 [==============================] - 789s 59ms/step - loss: 0.1581 - accuracy: 0.9472 - val_loss: 0.1573 - val_accuracy: 0.9524\n",
      "Epoch 3/30\n",
      "13468/13468 [==============================] - 783s 58ms/step - loss: 0.1309 - accuracy: 0.9561 - val_loss: 0.1418 - val_accuracy: 0.9575\n",
      "Epoch 4/30\n",
      "13468/13468 [==============================] - 779s 58ms/step - loss: 0.1133 - accuracy: 0.9621 - val_loss: 0.1230 - val_accuracy: 0.9647\n"
     ]
    },
    {
     "name": "stderr",
     "output_type": "stream",
     "text": [
      "/usr/local/lib/python3.8/dist-packages/keras/utils/generic_utils.py:494: CustomMaskWarning: Custom mask layers require a config and must override get_config. When loading, the custom mask layer must be passed to the custom_objects argument.\n",
      "  warnings.warn('Custom mask layers require a config and must override '\n"
     ]
    },
    {
     "name": "stdout",
     "output_type": "stream",
     "text": [
      "INFO:tensorflow:Assets written to: /home/andreaspr/plankton_classification/models/mobilenet/wandb/run-20230408_044816-et273r7l/files/model-best/assets\n"
     ]
    },
    {
     "name": "stderr",
     "output_type": "stream",
     "text": [
      "/usr/local/lib/python3.8/dist-packages/keras/utils/generic_utils.py:494: CustomMaskWarning: Custom mask layers require a config and must override get_config. When loading, the custom mask layer must be passed to the custom_objects argument.\n",
      "  warnings.warn('Custom mask layers require a config and must override '\n",
      "\u001b[34m\u001b[1mwandb\u001b[0m: Adding directory to artifact (/home/andreaspr/plankton_classification/models/mobilenet/wandb/run-20230408_044816-et273r7l/files/model-best)... Done. 0.1s\n"
     ]
    },
    {
     "name": "stdout",
     "output_type": "stream",
     "text": [
      "Epoch 5/30\n",
      "13468/13468 [==============================] - 783s 58ms/step - loss: 0.1007 - accuracy: 0.9665 - val_loss: 0.1212 - val_accuracy: 0.9674\n",
      "INFO:tensorflow:Assets written to: /home/andreaspr/plankton_classification/models/mobilenet/wandb/run-20230408_044816-et273r7l/files/model-best/assets\n"
     ]
    },
    {
     "name": "stderr",
     "output_type": "stream",
     "text": [
      "/usr/local/lib/python3.8/dist-packages/keras/utils/generic_utils.py:494: CustomMaskWarning: Custom mask layers require a config and must override get_config. When loading, the custom mask layer must be passed to the custom_objects argument.\n",
      "  warnings.warn('Custom mask layers require a config and must override '\n",
      "\u001b[34m\u001b[1mwandb\u001b[0m: Adding directory to artifact (/home/andreaspr/plankton_classification/models/mobilenet/wandb/run-20230408_044816-et273r7l/files/model-best)... Done. 0.1s\n"
     ]
    },
    {
     "name": "stdout",
     "output_type": "stream",
     "text": [
      "Epoch 6/30\n",
      "13468/13468 [==============================] - 778s 58ms/step - loss: 0.0919 - accuracy: 0.9691 - val_loss: 0.1281 - val_accuracy: 0.9645\n",
      "Epoch 7/30\n",
      "13468/13468 [==============================] - 792s 59ms/step - loss: 0.0838 - accuracy: 0.9717 - val_loss: 0.1326 - val_accuracy: 0.9642\n",
      "Epoch 8/30\n",
      "13468/13468 [==============================] - 794s 59ms/step - loss: 0.0770 - accuracy: 0.9739 - val_loss: 0.1289 - val_accuracy: 0.9645\n",
      "Epoch 9/30\n",
      "13468/13468 [==============================] - 790s 59ms/step - loss: 0.0433 - accuracy: 0.9853 - val_loss: 0.1222 - val_accuracy: 0.9705\n",
      "Epoch 10/30\n",
      "13468/13468 [==============================] - 785s 58ms/step - loss: 0.0321 - accuracy: 0.9892 - val_loss: 0.1274 - val_accuracy: 0.9704\n"
     ]
    },
    {
     "data": {
      "text/plain": [
       "<keras.callbacks.History at 0x7fb28852acd0>"
      ]
     },
     "execution_count": 8,
     "metadata": {},
     "output_type": "execute_result"
    }
   ],
   "source": [
    "model.fit(train_ds, epochs=cfg.epochs, batch_size=32, verbose=cfg.verbose, validation_data=val_ds, callbacks=callbacks) # train the model"
   ]
  },
  {
   "cell_type": "code",
   "execution_count": 9,
   "id": "198adf8c",
   "metadata": {},
   "outputs": [
    {
     "data": {
      "text/html": [
       "Waiting for W&B process to finish... <strong style=\"color:green\">(success).</strong>"
      ],
      "text/plain": [
       "<IPython.core.display.HTML object>"
      ]
     },
     "metadata": {},
     "output_type": "display_data"
    },
    {
     "data": {
      "text/html": [
       "<style>\n",
       "    table.wandb td:nth-child(1) { padding: 0 10px; text-align: left ; width: auto;} td:nth-child(2) {text-align: left ; width: 100%}\n",
       "    .wandb-row { display: flex; flex-direction: row; flex-wrap: wrap; justify-content: flex-start; width: 100% }\n",
       "    .wandb-col { display: flex; flex-direction: column; flex-basis: 100%; flex: 1; padding: 10px; }\n",
       "    </style>\n",
       "<div class=\"wandb-row\"><div class=\"wandb-col\"><h3>Run history:</h3><br/><table class=\"wandb\"><tr><td>accuracy</td><td>▁▄▅▅▆▆▆▆██</td></tr><tr><td>epoch</td><td>▁▂▃▃▄▅▆▆▇█</td></tr><tr><td>loss</td><td>█▅▄▄▃▃▃▃▁▁</td></tr><tr><td>val_accuracy</td><td>▁▂▃▆▇▆▆▆██</td></tr><tr><td>val_loss</td><td>█▇▄▁▁▂▃▂▁▂</td></tr></table><br/></div><div class=\"wandb-col\"><h3>Run summary:</h3><br/><table class=\"wandb\"><tr><td>accuracy</td><td>0.9892</td></tr><tr><td>best_epoch</td><td>4</td></tr><tr><td>best_val_loss</td><td>0.12124</td></tr><tr><td>epoch</td><td>9</td></tr><tr><td>loss</td><td>0.03213</td></tr><tr><td>val_accuracy</td><td>0.97036</td></tr><tr><td>val_loss</td><td>0.12743</td></tr></table><br/></div></div>"
      ],
      "text/plain": [
       "<IPython.core.display.HTML object>"
      ]
     },
     "metadata": {},
     "output_type": "display_data"
    },
    {
     "data": {
      "text/html": [
       " View run <strong style=\"color:#cdcd00\">misty-hill-2</strong> at: <a href='https://wandb.ai/nubs/MobileNetFineTune/runs/u8c5yti9' target=\"_blank\">https://wandb.ai/nubs/MobileNetFineTune/runs/u8c5yti9</a><br/>Synced 5 W&B file(s), 0 media file(s), 8 artifact file(s) and 0 other file(s)"
      ],
      "text/plain": [
       "<IPython.core.display.HTML object>"
      ]
     },
     "metadata": {},
     "output_type": "display_data"
    },
    {
     "data": {
      "text/html": [
       "Find logs at: <code>./wandb/run-20230408_121445-u8c5yti9/logs</code>"
      ],
      "text/plain": [
       "<IPython.core.display.HTML object>"
      ]
     },
     "metadata": {},
     "output_type": "display_data"
    }
   ],
   "source": [
    "wandb.finish()"
   ]
  }
 ],
 "metadata": {
  "kernelspec": {
   "display_name": "Python 3 (ipykernel)",
   "language": "python",
   "name": "python3"
  },
  "language_info": {
   "codemirror_mode": {
    "name": "ipython",
    "version": 3
   },
   "file_extension": ".py",
   "mimetype": "text/x-python",
   "name": "python",
   "nbconvert_exporter": "python",
   "pygments_lexer": "ipython3",
   "version": "3.8.10"
  }
 },
 "nbformat": 4,
 "nbformat_minor": 5
}
