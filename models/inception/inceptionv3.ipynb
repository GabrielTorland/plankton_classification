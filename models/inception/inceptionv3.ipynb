{
 "cells": [
  {
   "cell_type": "code",
   "execution_count": null,
   "metadata": {},
   "outputs": [],
   "source": [
    "import tensorflow as tf\n",
    "from tensorflow import keras\n",
    "import matplotlib.pyplot as plt\n",
    "from inceptionv3_models import create_inceptionv3_model\n",
    "import os\n",
    "import wandb\n",
    "from wandb.keras import WandbCallback"
   ]
  },
  {
   "attachments": {},
   "cell_type": "markdown",
   "metadata": {},
   "source": [
    "# Loading Data Set\n",
    "Three sets are created: training, validation, and test. \n",
    "- Labels are generated based on the folder structure. Class name must correspond to the subfolder name.\n",
    "- Loading in batches, of size 32, to reduce memory usage.\n",
    "- Label mode is set to categorical, which means that the labels are encoded as a categorical vector.\n",
    "\n",
    "Bilinear interploation is set to default. This specify the method used in the resizing procedure. By default aspect ratio is not perserved, i.e., the ratio between image width and height.\n",
    "\n",
    "One hot encoding is utilized when label mode is set to categorical.\n",
    "\n",
    "\n",
    "The image load documentation is available [here](https://www.tensorflow.org/api_docs/python/tf/keras/utils/image_dataset_from_directory) and an example is available [here](https://keras.io/api/data_loading/image/)."
   ]
  },
  {
   "cell_type": "code",
   "execution_count": null,
   "metadata": {},
   "outputs": [],
   "source": [
    "train_ds = keras.utils.image_dataset_from_directory(\n",
    "    directory='dataset/train/',\n",
    "    labels='inferred',\n",
    "    label_mode='categorical',\n",
    "    shuffle=True,\n",
    "    batch_size=32,\n",
    "    image_size=(224, 224))\n",
    "\n",
    "val_ds = keras.utils.image_dataset_from_directory(\n",
    "    directory='dataset/val/',\n",
    "    labels='inferred',\n",
    "    label_mode='categorical',\n",
    "    shuffle=True,\n",
    "    batch_size=32,\n",
    "    image_size=(224, 224))\n",
    "test_ds = keras.utils.image_dataset_from_directory(\n",
    "    directory='dataset/test/',\n",
    "    labels='inferred',\n",
    "    label_mode='categorical',\n",
    "    shuffle=False,\n",
    "    batch_size=32,\n",
    "    image_size=(224, 224))"
   ]
  },
  {
   "attachments": {},
   "cell_type": "markdown",
   "metadata": {},
   "source": [
    "# Visualizing the Data"
   ]
  },
  {
   "cell_type": "code",
   "execution_count": null,
   "metadata": {},
   "outputs": [],
   "source": [
    "# histogram of class distribution in the data set\n",
    "# remove underscores from class names\n",
    "class_dist = {class_name.replace('_', ' ') : 0 for class_name in train_ds.class_names}\n",
    "for label in os.listdir(\"dataset/train\"):\n",
    "    class_dist[label.replace('_', ' ')] = len(os.listdir(os.path.join(\"dataset/train/\", label)))\n",
    "\n",
    "# plot the histogram\n",
    "plt.bar(class_dist.keys(), class_dist.values(), color=['red', 'green', 'blue', 'cyan', 'magenta', 'yellow', 'black'])\n",
    "plt.title('Class Distribution')\n",
    "plt.xlabel('Class')\n",
    "plt.ylabel('Frequency')\n",
    "plt.xticks(rotation=90)\n",
    "plt.show()"
   ]
  },
  {
   "cell_type": "code",
   "execution_count": null,
   "metadata": {},
   "outputs": [],
   "source": [
    "# percentage of each class in the data set\n",
    "for label, count in zip(class_dist.keys(), class_dist.values()):\n",
    "    print(f'{label}: {count/sum(class_dist.values())*100:.2f}%')"
   ]
  },
  {
   "attachments": {},
   "cell_type": "markdown",
   "metadata": {},
   "source": [
    "# Inception v3"
   ]
  },
  {
   "cell_type": "code",
   "execution_count": null,
   "metadata": {},
   "outputs": [],
   "source": [
    "# initialize wandb\n",
    "wandb.init(project=\"Inception_v3\", config={\"learning_rate\": 0.001, \"epochs\": 30, \"verbose\": 1, \"name\": \"Inception_v3\"})\n",
    "\n",
    "# configs\n",
    "cfg = wandb.config\n",
    "\n",
    "# create the model\n",
    "model = create_inceptionv3_model(len(train_ds.class_names))"
   ]
  },
  {
   "cell_type": "code",
   "execution_count": null,
   "metadata": {},
   "outputs": [],
   "source": [
    "# list of callbacks\n",
    "callbacks = [WandbCallback(mode=\"min\", monitor=\"val_loss\", save_model=True),\n",
    "             tf.keras.callbacks.ReduceLROnPlateau(monitor='val_loss', factor=0.1,\n",
    "                                                   patience=5, min_lr=0.0001),\n",
    "             tf.keras.callbacks.EarlyStopping(monitor='val_loss', patience=5)]"
   ]
  },
  {
   "cell_type": "code",
   "execution_count": null,
   "metadata": {},
   "outputs": [],
   "source": [
    "# train the model\n",
    "model.fit(train_ds, epochs=cfg.epochs, batch_size=32, validation_data=val_ds, callbacks=callbacks)"
   ]
  },
  {
   "cell_type": "code",
   "execution_count": null,
   "metadata": {},
   "outputs": [],
   "source": [
    "wandb.finish()"
   ]
  }
 ],
 "metadata": {
  "language_info": {
   "name": "python"
  },
  "orig_nbformat": 4
 },
 "nbformat": 4,
 "nbformat_minor": 2
}
