{
 "cells": [
  {
   "cell_type": "code",
   "execution_count": 1,
   "id": "5b8c9d83",
   "metadata": {},
   "outputs": [],
   "source": [
    "from tensorflow.keras.applications import DenseNet121\n",
    "from tensorflow.keras.applications.densenet import preprocess_input\n",
    "from tensorflow.keras.layers import Dense, GlobalAveragePooling2D\n",
    "from tensorflow.keras.models import Model\n",
    "from tensorflow.keras.optimizers import Adam\n",
    "from tensorflow.keras.preprocessing.image import ImageDataGenerator\n",
    "import tensorflow as tf\n",
    "import numpy as np"
   ]
  },
  {
   "cell_type": "code",
   "execution_count": 2,
   "id": "fb558ac7",
   "metadata": {},
   "outputs": [],
   "source": [
    "NUM_CLASSES = 15\n",
    "\n",
    "def create_model():\n",
    "    \"\"\"Creates the DenseNet121 model.\n",
    "\n",
    "    Returns:\n",
    "        Model: The DenseNet121 model.\n",
    "    \"\"\"\n",
    "    # Load the DenseNet121 model\n",
    "    base_model = DenseNet121(weights='imagenet', include_top=False)\n",
    "\n",
    "    # Add a global spatial average pooling layer\n",
    "\n",
    "    x = base_model.output\n",
    "    x = GlobalAveragePooling2D()(x)\n",
    "\n",
    "    # Add a fully connected layer\n",
    "    x = Dense(1024, activation='relu')(x)\n",
    "\n",
    "    # Add a logistic layer\n",
    "    predictions = Dense(NUM_CLASSES, activation='softmax')(x)\n",
    "\n",
    "    # Model to train\n",
    "    model = Model(inputs=base_model.input, outputs=predictions)\n",
    "\n",
    "        \n",
    "    # Compile the model\n",
    "    model.compile(optimizer=Adam(), loss='categorical_crossentropy', metrics=['accuracy'])\n",
    "    \n",
    "    return model\n",
    "    \n"
   ]
  },
  {
   "cell_type": "code",
   "execution_count": 3,
   "id": "8daeecf7",
   "metadata": {},
   "outputs": [],
   "source": [
    "def train_model(model, test_path, validation_path, epochs=1):\n",
    "    \"\"\"Trains the model\n",
    "\n",
    "    Args:\n",
    "        model (Model): DenseNet121 model\n",
    "        test_path (str): path to the test dataset\n",
    "        validation_path (str): path to the validation dataset\n",
    "        epochs (int): epochs to train the model\n",
    "        \n",
    "    Return: History\n",
    "\n",
    "    \"\"\"\n",
    "    train_dataset = ImageDataGenerator(preprocessing_function=preprocess_input)\n",
    "\n",
    "    train_dataset = train_dataset.flow_from_directory(      test_path,\n",
    "                                                            target_size=(256, 256),\n",
    "                                                            batch_size=32,\n",
    "                                                            class_mode='categorical')\n",
    "\n",
    "    validation_dataset = ImageDataGenerator(preprocessing_function=preprocess_input)\n",
    "\n",
    "    validation_dataset = validation_dataset.flow_from_directory(validation_path,\n",
    "                                                            target_size=(256, 256),\n",
    "                                                            batch_size=32,\n",
    "                                                            class_mode='categorical')\n",
    "\n",
    "    history = model.fit(\n",
    "        train_dataset,\n",
    "        epochs=epochs,\n",
    "        validation_data=validation_dataset,\n",
    "        batch_size=32,\n",
    "        verbose=\"auto\"\n",
    "    )\n",
    "    \n",
    "    return history\n"
   ]
  },
  {
   "cell_type": "code",
   "execution_count": 4,
   "id": "b2087d3e",
   "metadata": {},
   "outputs": [],
   "source": [
    "def evaluate_model(model):\n",
    "    \"\"\"Evaluates the model\n",
    "\n",
    "    Args:\n",
    "        model (Model): The model to evaluate\n",
    "\n",
    "    Returns:\n",
    "        ndarray: loss and accuracy respectively\n",
    "    \"\"\"\n",
    "    validation_dataset = ImageDataGenerator(preprocessing_function=preprocess_input)\n",
    "\n",
    "    validation_dataset = validation_dataset.flow_from_directory('../../Baseline_Training_Set/test/',\n",
    "                                                            target_size=(256, 256),\n",
    "                                                            batch_size=32,\n",
    "                                                            class_mode='categorical')\n",
    "\n",
    "    evaluation = model.evaluate(\n",
    "        validation_dataset,\n",
    "        batch_size=32,\n",
    "        verbose=\"auto\"\n",
    "    )\n",
    "\n",
    "    return evaluation"
   ]
  },
  {
   "cell_type": "code",
   "execution_count": 5,
   "id": "e2f468ef",
   "metadata": {},
   "outputs": [],
   "source": [
    "def make_confusion_matrix(model, test_path):\n",
    "    \"\"\"Makes the confusion matrix for a model\n",
    "\n",
    "    Args:\n",
    "        model (Model): Model\n",
    "        test_path (str): Path to the test dataset\n",
    "\n",
    "    Returns:\n",
    "        ndarray: Confusion matrix\n",
    "    \"\"\"\n",
    "    validation_dataset = ImageDataGenerator(preprocessing_function=preprocess_input)\n",
    "    validation_dataset = validation_dataset.flow_from_directory(test_path,\n",
    "                                                            target_size=(256, 256),\n",
    "                                                            batch_size=32,\n",
    "                                                            class_mode='categorical',\n",
    "                                                            shuffle=False)\n",
    "                                                            \n",
    "    validation_predictions = model.predict(validation_dataset)\n",
    "    processed_validation_predictions = np.argmax(validation_predictions, axis=-1)\n",
    "\n",
    "    matrix = np.array(tf.math.confusion_matrix(\n",
    "    validation_dataset.classes,\n",
    "    processed_validation_predictions,\n",
    "    ))\n",
    "\n",
    "    return matrix\n",
    "    "
   ]
  },
  {
   "cell_type": "code",
   "execution_count": 6,
   "id": "cbf84fb4",
   "metadata": {},
   "outputs": [],
   "source": [
    "import matplotlib.pyplot as plt\n",
    "import itertools\n",
    "\n",
    "def plot_confusion_matrix(matrix, class_names):\n",
    "    \"\"\"Makes a plot for the confusion matrix\n",
    "\n",
    "    Args:\n",
    "        matrix (numpy.ndarray): Confusion matrix\n",
    "        class_names (list): A list of strings representing the class names in the order of the matrixs\n",
    "    \"\"\"\n",
    "\n",
    "    plt.figure(figsize=(12, 10))\n",
    "\n",
    "    plt.imshow(matrix, cmap='Blues')\n",
    "    plt.colorbar()\n",
    "\n",
    "    # Add labels to the plot\n",
    "    tick_marks = np.arange(len(class_names))\n",
    "    plt.xticks(tick_marks, class_names, rotation=45)\n",
    "    plt.yticks(tick_marks, class_names)\n",
    "    plt.xticks(fontsize=7)\n",
    "    plt.yticks(fontsize=7)\n",
    "\n",
    "    # Add a title and x and y labels\n",
    "    plt.title(\"Confusion Matrix\")\n",
    "    plt.xlabel(\"Predicted Class\")\n",
    "    plt.ylabel(\"True Class\")\n",
    "\n",
    "    # Add grid lines\n",
    "    plt.grid(False)\n",
    "\n",
    "\n",
    "    # Add text to the cells\n",
    "    for i, j in itertools.product(range(matrix.shape[0]), range(matrix.shape[1])):\n",
    "        plt.text(j, i, matrix[i, j], horizontalalignment=\"center\", color=\"black\")\n",
    "    plt.savefig('confusion_matrix.png')\n",
    "    plt.show()\n"
   ]
  },
  {
   "cell_type": "code",
   "execution_count": 7,
   "id": "3ec34eb5",
   "metadata": {},
   "outputs": [],
   "source": [
    "def plot_accuracy(history):\n",
    "    \"\"\"Plots the accuracy for the training and validation data\n",
    "\n",
    "    Args:\n",
    "        history (History): History object\n",
    "    \"\"\"\n",
    "    plt.plot(range(1, len(history.history['accuracy']) + 1), history.history['accuracy'])\n",
    "    plt.plot(range(1, len(history.history['val_accuracy']) + 1), history.history['val_accuracy'])\n",
    "    plt.title('Model Accuracy')\n",
    "    plt.ylabel('Accuracy')\n",
    "    plt.xlabel('Epoch')\n",
    "    plt.legend(['Train', 'Validation'], loc='upper left')\n",
    "    plt.savefig('accuracy.png')\n",
    "    plt.show()"
   ]
  },
  {
   "cell_type": "code",
   "execution_count": 8,
   "id": "a5efa595",
   "metadata": {},
   "outputs": [],
   "source": [
    "def plot_loss(history):\n",
    "    \"\"\"Plots the loss for the training and validation data\n",
    "\n",
    "    Args:\n",
    "        history (History): History object\n",
    "    \"\"\"\n",
    "    plt.plot(range(1, len(history.history['loss']) + 1), history.history['loss'])\n",
    "    plt.plot(range(1, len(history.history['val_loss']) + 1), history.history['val_loss'])\n",
    "    plt.title('Model Loss')\n",
    "    plt.ylabel('Loss')\n",
    "    plt.xlabel('Epoch')\n",
    "    plt.legend(['Train', 'Validation'], loc='upper left')\n",
    "    plt.savefig('loss.png')\n",
    "    plt.show()"
   ]
  },
  {
   "cell_type": "code",
   "execution_count": null,
   "id": "7cfd0b78",
   "metadata": {
    "scrolled": true
   },
   "outputs": [],
   "source": [
    "\n",
    "model = create_model()\n",
    "history = train_model(model,'../../baseline_trainingset_split/train/','../../baseline_trainingset_split/val/',  8)\n",
    "matrix = make_confusion_matrix(model, '../../baseline_trainingset_split/test/')\n",
    "\n",
    "\n",
    "class_names = [\n",
    "    \"Appendicularia\",\n",
    "    \"Bivalve\",\n",
    "    \"Ceratium\",\n",
    "    \"Ciliate\",\n",
    "    \"Clumps\",\n",
    "    \"Copepod\",\n",
    "    \"Copepod egg clump\",\n",
    "    \"Detritus\",\n",
    "    \"Diatom\",\n",
    "    \"Dinoflagellate\",\n",
    "    \"Dinophysis\",\n",
    "    \"Foraminifera\",\n",
    "    \"Gastropoda\",\n",
    "    \"Protoperidinium\",\n",
    "    \"Silicoflagellate\"\n",
    "]\n",
    "plot_confusion_matrix(matrix, class_names=class_names)\n",
    "\n"
   ]
  },
  {
   "cell_type": "code",
   "execution_count": 24,
   "id": "3206e743",
   "metadata": {},
   "outputs": [
    {
     "data": {
      "image/png": "[encoded data removed]",
      "text/plain": [
       "<Figure size 640x480 with 1 Axes>"
      ]
     },
     "metadata": {},
     "output_type": "display_data"
    },
    {
     "data": {
      "image/png": "[encoded data removed]",
      "text/plain": [
       "<Figure size 640x480 with 1 Axes>"
      ]
     },
     "metadata": {},
     "output_type": "display_data"
    }
   ],
   "source": [
    "plot_accuracy(history)\n",
    "plot_loss(history)"
   ]
  }
 ],
 "metadata": {
  "kernelspec": {
   "display_name": "Python 3 (ipykernel)",
   "language": "python",
   "name": "python3"
  },
  "language_info": {
   "codemirror_mode": {
    "name": "ipython",
    "version": 3
   },
   "file_extension": ".py",
   "mimetype": "text/x-python",
   "name": "python",
   "nbconvert_exporter": "python",
   "pygments_lexer": "ipython3",
   "version": "3.8.10"
  },
  "vscode": {
   "interpreter": {
    "hash": "705981ebfef8414934dd4135383ecdf26fe8fa6933659ee4e9a6df233986ed45"
   }
  }
 },
 "nbformat": 4,
 "nbformat_minor": 5
}
