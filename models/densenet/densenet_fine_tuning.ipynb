{
 "cells": [
  {
   "cell_type": "code",
   "execution_count": 1,
   "id": "ac5e77a6",
   "metadata": {},
   "outputs": [],
   "source": [
    "import tensorflow as tf\n",
    "from tensorflow import keras\n",
    "import os\n",
    "from densenet_models import create_densenet121_model_no_fc, create_densenet169_model_no_fc, create_densenet201_model_no_fc\n",
    "import wandb\n",
    "from wandb.keras import WandbCallback"
   ]
  },
  {
   "cell_type": "code",
   "execution_count": 2,
   "id": "842d194e",
   "metadata": {},
   "outputs": [
    {
     "name": "stdout",
     "output_type": "stream",
     "text": [
      "Found 430967 files belonging to 12 classes.\n"
     ]
    },
    {
     "name": "stderr",
     "output_type": "stream",
     "text": [
      "2023-04-07 16:47:52.134335: I tensorflow/core/common_runtime/gpu/gpu_device.cc:1525] Created device /job:localhost/replica:0/task:0/device:GPU:0 with 30994 MB memory:  -> device: 0, name: Tesla V100-SXM3-32GB, pci bus id: 0000:bc:00.0, compute capability: 7.0\n"
     ]
    },
    {
     "name": "stdout",
     "output_type": "stream",
     "text": [
      "Found 37219 files belonging to 12 classes.\n"
     ]
    }
   ],
   "source": [
    "train_ds = keras.utils.image_dataset_from_directory(\n",
    "    directory=\"/home/andreaspr/plankton_classification/organized_dataset_v7/dataset/train\",\n",
    "    labels='inferred',\n",
    "    label_mode='categorical',\n",
    "    shuffle=True,\n",
    "    batch_size=32,\n",
    "    image_size=(224, 224)\n",
    "    )\n",
    "val_ds = keras.utils.image_dataset_from_directory(\n",
    "    directory=\"/home/andreaspr/plankton_classification/organized_dataset_v7/dataset/val\",\n",
    "    labels='inferred',\n",
    "    label_mode='categorical',\n",
    "    shuffle=True,\n",
    "    batch_size=32,\n",
    "    image_size=(224, 224)\n",
    "    )"
   ]
  },
  {
   "cell_type": "markdown",
   "id": "ea2e4fd9",
   "metadata": {},
   "source": [
    "# DenseNet121"
   ]
  },
  {
   "cell_type": "code",
   "execution_count": 3,
   "id": "f7d82553",
   "metadata": {},
   "outputs": [
    {
     "name": "stderr",
     "output_type": "stream",
     "text": [
      "Failed to detect the name of this notebook, you can set it manually with the WANDB_NOTEBOOK_NAME environment variable to enable code saving.\n",
      "\u001b[34m\u001b[1mwandb\u001b[0m: Currently logged in as: \u001b[33mandreaspri\u001b[0m (\u001b[33mnubs\u001b[0m). Use \u001b[1m`wandb login --relogin`\u001b[0m to force relogin\n"
     ]
    },
    {
     "data": {
      "text/html": [
       "wandb version 0.14.1 is available!  To upgrade, please run:\n",
       " $ pip install wandb --upgrade"
      ],
      "text/plain": [
       "<IPython.core.display.HTML object>"
      ]
     },
     "metadata": {},
     "output_type": "display_data"
    },
    {
     "data": {
      "text/html": [
       "Tracking run with wandb version 0.14.0"
      ],
      "text/plain": [
       "<IPython.core.display.HTML object>"
      ]
     },
     "metadata": {},
     "output_type": "display_data"
    },
    {
     "data": {
      "text/html": [
       "Run data is saved locally in <code>/home/andreaspr/plankton_classification/models/densenet/wandb/run-20230407_130528-ev649q5t</code>"
      ],
      "text/plain": [
       "<IPython.core.display.HTML object>"
      ]
     },
     "metadata": {},
     "output_type": "display_data"
    },
    {
     "data": {
      "text/html": [
       "Syncing run <strong><a href='https://wandb.ai/nubs/DenseNetFineTuning/runs/ev649q5t' target=\"_blank\">divine-firefly-16</a></strong> to <a href='https://wandb.ai/nubs/DenseNetFineTuning' target=\"_blank\">Weights & Biases</a> (<a href='https://wandb.me/run' target=\"_blank\">docs</a>)<br/>"
      ],
      "text/plain": [
       "<IPython.core.display.HTML object>"
      ]
     },
     "metadata": {},
     "output_type": "display_data"
    },
    {
     "data": {
      "text/html": [
       " View project at <a href='https://wandb.ai/nubs/DenseNetFineTuning' target=\"_blank\">https://wandb.ai/nubs/DenseNetFineTuning</a>"
      ],
      "text/plain": [
       "<IPython.core.display.HTML object>"
      ]
     },
     "metadata": {},
     "output_type": "display_data"
    },
    {
     "data": {
      "text/html": [
       " View run at <a href='https://wandb.ai/nubs/DenseNetFineTuning/runs/ev649q5t' target=\"_blank\">https://wandb.ai/nubs/DenseNetFineTuning/runs/ev649q5t</a>"
      ],
      "text/plain": [
       "<IPython.core.display.HTML object>"
      ]
     },
     "metadata": {},
     "output_type": "display_data"
    }
   ],
   "source": [
    "# initialize wandb\n",
    "wandb.init(project=\"DenseNetFineTuning\", config={\"learning_rate\": 0.001, \"epochs\": 100, \"verbose\": 1,\"name\": \"DenseNet121\", \"architecture\": \"DenseNet121\"})\n",
    "\n",
    "# configs\n",
    "cfg = wandb.config\n",
    "\n",
    "# create the model\n",
    "model = create_densenet121_model_no_fc(len(train_ds.class_names))"
   ]
  },
  {
   "cell_type": "code",
   "execution_count": 4,
   "id": "19674db8",
   "metadata": {},
   "outputs": [
    {
     "name": "stderr",
     "output_type": "stream",
     "text": [
      "\u001b[34m\u001b[1mwandb\u001b[0m: \u001b[33mWARNING\u001b[0m The save_model argument by default saves the model in the HDF5 format that cannot save custom objects like subclassed models and custom layers. This behavior will be deprecated in a future release in favor of the SavedModel format. Meanwhile, the HDF5 model is saved as W&B files and the SavedModel as W&B Artifacts.\n"
     ]
    }
   ],
   "source": [
    "\n",
    "# Add the custom callback to your list of callbacks\n",
    "fine_tune_callbacks = [\n",
    "    WandbCallback(mode=\"min\", monitor=\"val_loss\", save_graph=True),\n",
    "    tf.keras.callbacks.ReduceLROnPlateau(monitor='val_loss', factor=0.1, patience=3, min_lr=1e-6),\n",
    "    tf.keras.callbacks.EarlyStopping(monitor='val_loss', patience=5),\n",
    "]\n"
   ]
  },
  {
   "cell_type": "code",
   "execution_count": null,
   "id": "59429600",
   "metadata": {},
   "outputs": [
    {
     "name": "stdout",
     "output_type": "stream",
     "text": [
      "Epoch 1/100\n"
     ]
    },
    {
     "name": "stderr",
     "output_type": "stream",
     "text": [
      "2023-04-07 13:05:47.826942: I tensorflow/stream_executor/cuda/cuda_dnn.cc:377] Loaded cuDNN version 8302\n"
     ]
    },
    {
     "name": "stdout",
     "output_type": "stream",
     "text": [
      "13468/13468 [==============================] - 1960s 145ms/step - loss: 0.2478 - accuracy: 0.9188 - val_loss: 0.1282 - val_accuracy: 0.9602\n"
     ]
    },
    {
     "name": "stderr",
     "output_type": "stream",
     "text": [
      "2023-04-07 13:38:34.546661: W tensorflow/python/util/util.cc:368] Sets are not currently considered sequences, but this may change in the future, so consider avoiding using them.\n"
     ]
    },
    {
     "name": "stdout",
     "output_type": "stream",
     "text": [
      "INFO:tensorflow:Assets written to: /home/andreaspr/plankton_classification/models/densenet/wandb/run-20230407_130528-ev649q5t/files/model-best/assets\n"
     ]
    },
    {
     "name": "stderr",
     "output_type": "stream",
     "text": [
      "\u001b[34m\u001b[1mwandb\u001b[0m: Adding directory to artifact (/home/andreaspr/plankton_classification/models/densenet/wandb/run-20230407_130528-ev649q5t/files/model-best)... Done. 0.2s\n"
     ]
    },
    {
     "name": "stdout",
     "output_type": "stream",
     "text": [
      "Epoch 2/100\n",
      " 5911/13468 [============>.................] - ETA: 17:35 - loss: 0.1571 - accuracy: 0.9471"
     ]
    }
   ],
   "source": [
    "# Train the model with the callbacks\n",
    "model.fit(train_ds, epochs=cfg.epochs, batch_size=32, verbose=cfg.verbose, validation_data=val_ds, callbacks=fine_tune_callbacks)"
   ]
  },
  {
   "cell_type": "code",
   "execution_count": null,
   "id": "231c693a",
   "metadata": {},
   "outputs": [],
   "source": [
    "wandb.finish()"
   ]
  },
  {
   "cell_type": "markdown",
   "id": "0483a76f",
   "metadata": {},
   "source": [
    "# DenseNet169"
   ]
  },
  {
   "cell_type": "code",
   "execution_count": 3,
   "id": "8db68052",
   "metadata": {},
   "outputs": [
    {
     "name": "stderr",
     "output_type": "stream",
     "text": [
      "Failed to detect the name of this notebook, you can set it manually with the WANDB_NOTEBOOK_NAME environment variable to enable code saving.\n",
      "\u001b[34m\u001b[1mwandb\u001b[0m: Currently logged in as: \u001b[33mandreaspri\u001b[0m (\u001b[33mnubs\u001b[0m). Use \u001b[1m`wandb login --relogin`\u001b[0m to force relogin\n"
     ]
    },
    {
     "data": {
      "text/html": [
       "wandb version 0.14.1 is available!  To upgrade, please run:\n",
       " $ pip install wandb --upgrade"
      ],
      "text/plain": [
       "<IPython.core.display.HTML object>"
      ]
     },
     "metadata": {},
     "output_type": "display_data"
    },
    {
     "data": {
      "text/html": [
       "Tracking run with wandb version 0.14.0"
      ],
      "text/plain": [
       "<IPython.core.display.HTML object>"
      ]
     },
     "metadata": {},
     "output_type": "display_data"
    },
    {
     "data": {
      "text/html": [
       "Run data is saved locally in <code>/home/andreaspr/plankton_classification/models/densenet/wandb/run-20230407_164755-gycg0xf8</code>"
      ],
      "text/plain": [
       "<IPython.core.display.HTML object>"
      ]
     },
     "metadata": {},
     "output_type": "display_data"
    },
    {
     "data": {
      "text/html": [
       "Syncing run <strong><a href='https://wandb.ai/nubs/DenseNetFineTuning/runs/gycg0xf8' target=\"_blank\">eternal-spaceship-17</a></strong> to <a href='https://wandb.ai/nubs/DenseNetFineTuning' target=\"_blank\">Weights & Biases</a> (<a href='https://wandb.me/run' target=\"_blank\">docs</a>)<br/>"
      ],
      "text/plain": [
       "<IPython.core.display.HTML object>"
      ]
     },
     "metadata": {},
     "output_type": "display_data"
    },
    {
     "data": {
      "text/html": [
       " View project at <a href='https://wandb.ai/nubs/DenseNetFineTuning' target=\"_blank\">https://wandb.ai/nubs/DenseNetFineTuning</a>"
      ],
      "text/plain": [
       "<IPython.core.display.HTML object>"
      ]
     },
     "metadata": {},
     "output_type": "display_data"
    },
    {
     "data": {
      "text/html": [
       " View run at <a href='https://wandb.ai/nubs/DenseNetFineTuning/runs/gycg0xf8' target=\"_blank\">https://wandb.ai/nubs/DenseNetFineTuning/runs/gycg0xf8</a>"
      ],
      "text/plain": [
       "<IPython.core.display.HTML object>"
      ]
     },
     "metadata": {},
     "output_type": "display_data"
    }
   ],
   "source": [
    "# initialize wandb\n",
    "wandb.init(project=\"DenseNetFineTuning\", config={\"learning_rate\": 0.001, \"epochs\": 100, \"verbose\": 1,\"name\": \"DenseNet169\", \"architecture\": \"DenseNet169\"})\n",
    "\n",
    "# configs\n",
    "cfg = wandb.config\n",
    "\n",
    "# create the model\n",
    "model = create_densenet169_model_no_fc(len(train_ds.class_names))"
   ]
  },
  {
   "cell_type": "code",
   "execution_count": null,
   "id": "909cdf51",
   "metadata": {},
   "outputs": [
    {
     "name": "stdout",
     "output_type": "stream",
     "text": [
      "Epoch 1/100\n"
     ]
    },
    {
     "name": "stderr",
     "output_type": "stream",
     "text": [
      "2023-04-07 16:48:20.981210: I tensorflow/stream_executor/cuda/cuda_dnn.cc:377] Loaded cuDNN version 8302\n"
     ]
    },
    {
     "name": "stdout",
     "output_type": "stream",
     "text": [
      "13468/13468 [==============================] - 2400s 177ms/step - loss: 0.2950 - accuracy: 0.9018 - val_loss: 0.1648 - val_accuracy: 0.9507\n"
     ]
    },
    {
     "name": "stderr",
     "output_type": "stream",
     "text": [
      "2023-04-07 17:28:28.454112: W tensorflow/python/util/util.cc:368] Sets are not currently considered sequences, but this may change in the future, so consider avoiding using them.\n"
     ]
    },
    {
     "name": "stdout",
     "output_type": "stream",
     "text": [
      "INFO:tensorflow:Assets written to: /home/andreaspr/plankton_classification/models/densenet/wandb/run-20230407_164755-gycg0xf8/files/model-best/assets\n"
     ]
    },
    {
     "name": "stderr",
     "output_type": "stream",
     "text": [
      "\u001b[34m\u001b[1mwandb\u001b[0m: Adding directory to artifact (/home/andreaspr/plankton_classification/models/densenet/wandb/run-20230407_164755-gycg0xf8/files/model-best)... Done. 0.5s\n"
     ]
    },
    {
     "name": "stdout",
     "output_type": "stream",
     "text": [
      "Epoch 2/100\n",
      "13468/13468 [==============================] - 2373s 176ms/step - loss: 0.1806 - accuracy: 0.9397 - val_loss: 0.2255 - val_accuracy: 0.9220\n",
      "Epoch 3/100\n",
      "13468/13468 [==============================] - 2360s 175ms/step - loss: 0.1479 - accuracy: 0.9504 - val_loss: 0.2368 - val_accuracy: 0.9081\n",
      "Epoch 4/100\n",
      " 3160/13468 [======>.......................] - ETA: 29:11 - loss: 0.1332 - accuracy: 0.9555"
     ]
    }
   ],
   "source": [
    "# Train the model with the callbacks\n",
    "model.fit(train_ds, epochs=cfg.epochs, batch_size=32, verbose=cfg.verbose, validation_data=val_ds, callbacks=fine_tune_callbacks)"
   ]
  },
  {
   "cell_type": "code",
   "execution_count": null,
   "id": "8037aecf",
   "metadata": {},
   "outputs": [],
   "source": [
    "wandb.finish()"
   ]
  },
  {
   "cell_type": "markdown",
   "id": "c5429d18",
   "metadata": {},
   "source": [
    "# DenseNet201"
   ]
  },
  {
   "cell_type": "code",
   "execution_count": null,
   "id": "9a8ff961",
   "metadata": {},
   "outputs": [],
   "source": [
    "# initialize wandb\n",
    "wandb.init(project=\"DenseNetFineTuning\", config={\"learning_rate\": 0.001, \"epochs\": 100, \"verbose\": 1,\"name\": \"DenseNet201\", \"architecture\": \"DenseNet201\"})\n",
    "\n",
    "# configs\n",
    "cfg = wandb.config\n",
    "\n",
    "# create the model\n",
    "model = create_densenet201_model_no_fc(len(train_ds.class_names))"
   ]
  },
  {
   "cell_type": "code",
   "execution_count": null,
   "id": "a3fe3f61",
   "metadata": {},
   "outputs": [],
   "source": [
    "# Train the model with the callbacks\n",
    "model.fit(train_ds, epochs=cfg.epochs, batch_size=32, verbose=cfg.verbose, validation_data=val_ds, callbacks=fine_tune_callbacks)"
   ]
  },
  {
   "cell_type": "code",
   "execution_count": null,
   "id": "76b14d33",
   "metadata": {},
   "outputs": [],
   "source": [
    "wandb.finish()"
   ]
  }
 ],
 "metadata": {
  "kernelspec": {
   "display_name": "Python 3 (ipykernel)",
   "language": "python",
   "name": "python3"
  },
  "language_info": {
   "codemirror_mode": {
    "name": "ipython",
    "version": 3
   },
   "file_extension": ".py",
   "mimetype": "text/x-python",
   "name": "python",
   "nbconvert_exporter": "python",
   "pygments_lexer": "ipython3",
   "version": "3.8.10"
  }
 },
 "nbformat": 4,
 "nbformat_minor": 5
}
