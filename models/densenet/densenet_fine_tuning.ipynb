{
 "cells": [
  {
   "cell_type": "code",
   "execution_count": 1,
   "id": "22fd7f57",
   "metadata": {},
   "outputs": [],
   "source": [
    "import tensorflow as tf\n",
    "from tensorflow import keras\n",
    "import os\n",
    "from densenet_models import create_densenet121_model_no_fc, create_densenet169_model_no_fc, create_densenet201_model_no_fc\n",
    "import wandb\n",
    "from wandb.keras import WandbCallback"
   ]
  },
  {
   "cell_type": "code",
   "execution_count": 2,
   "id": "a6496952",
   "metadata": {},
   "outputs": [
    {
     "name": "stdout",
     "output_type": "stream",
     "text": [
      "Found 430967 files belonging to 12 classes.\n"
     ]
    },
    {
     "name": "stderr",
     "output_type": "stream",
     "text": [
      "2023-04-06 01:07:16.995624: I tensorflow/core/common_runtime/gpu/gpu_device.cc:1525] Created device /job:localhost/replica:0/task:0/device:GPU:0 with 30996 MB memory:  -> device: 0, name: Tesla V100-SXM3-32GB, pci bus id: 0000:bc:00.0, compute capability: 7.0\n"
     ]
    },
    {
     "name": "stdout",
     "output_type": "stream",
     "text": [
      "Found 37219 files belonging to 12 classes.\n"
     ]
    }
   ],
   "source": [
    "train_ds = keras.utils.image_dataset_from_directory(\n",
    "    directory=\"/home/andreaspr/plankton_classification/organized_dataset_v7/dataset/train\",\n",
    "    labels='inferred',\n",
    "    label_mode='categorical',\n",
    "    shuffle=True,\n",
    "    batch_size=32,\n",
    "    image_size=(224, 224)\n",
    "    )\n",
    "val_ds = keras.utils.image_dataset_from_directory(\n",
    "    directory=\"/home/andreaspr/plankton_classification/organized_dataset_v7/dataset/val\",\n",
    "    labels='inferred',\n",
    "    label_mode='categorical',\n",
    "    shuffle=True,\n",
    "    batch_size=32,\n",
    "    image_size=(224, 224)\n",
    "    )"
   ]
  },
  {
   "cell_type": "markdown",
   "id": "c8767ac0",
   "metadata": {},
   "source": [
    "# DenseNet121"
   ]
  },
  {
   "cell_type": "code",
   "execution_count": 3,
   "id": "2341a49f",
   "metadata": {},
   "outputs": [
    {
     "name": "stderr",
     "output_type": "stream",
     "text": [
      "Failed to detect the name of this notebook, you can set it manually with the WANDB_NOTEBOOK_NAME environment variable to enable code saving.\n",
      "\u001b[34m\u001b[1mwandb\u001b[0m: Currently logged in as: \u001b[33mandreaspri\u001b[0m (\u001b[33mnubs\u001b[0m). Use \u001b[1m`wandb login --relogin`\u001b[0m to force relogin\n"
     ]
    },
    {
     "data": {
      "text/html": [
       "wandb version 0.14.1 is available!  To upgrade, please run:\n",
       " $ pip install wandb --upgrade"
      ],
      "text/plain": [
       "<IPython.core.display.HTML object>"
      ]
     },
     "metadata": {},
     "output_type": "display_data"
    },
    {
     "data": {
      "text/html": [
       "Tracking run with wandb version 0.14.0"
      ],
      "text/plain": [
       "<IPython.core.display.HTML object>"
      ]
     },
     "metadata": {},
     "output_type": "display_data"
    },
    {
     "data": {
      "text/html": [
       "Run data is saved locally in <code>/home/andreaspr/plankton_classification/models/densenet/wandb/run-20230405_185055-0mttj8st</code>"
      ],
      "text/plain": [
       "<IPython.core.display.HTML object>"
      ]
     },
     "metadata": {},
     "output_type": "display_data"
    },
    {
     "data": {
      "text/html": [
       "Syncing run <strong><a href='https://wandb.ai/nubs/DenseNetFineTuning/runs/0mttj8st' target=\"_blank\">crusher-holosuite-9</a></strong> to <a href='https://wandb.ai/nubs/DenseNetFineTuning' target=\"_blank\">Weights & Biases</a> (<a href='https://wandb.me/run' target=\"_blank\">docs</a>)<br/>"
      ],
      "text/plain": [
       "<IPython.core.display.HTML object>"
      ]
     },
     "metadata": {},
     "output_type": "display_data"
    },
    {
     "data": {
      "text/html": [
       " View project at <a href='https://wandb.ai/nubs/DenseNetFineTuning' target=\"_blank\">https://wandb.ai/nubs/DenseNetFineTuning</a>"
      ],
      "text/plain": [
       "<IPython.core.display.HTML object>"
      ]
     },
     "metadata": {},
     "output_type": "display_data"
    },
    {
     "data": {
      "text/html": [
       " View run at <a href='https://wandb.ai/nubs/DenseNetFineTuning/runs/0mttj8st' target=\"_blank\">https://wandb.ai/nubs/DenseNetFineTuning/runs/0mttj8st</a>"
      ],
      "text/plain": [
       "<IPython.core.display.HTML object>"
      ]
     },
     "metadata": {},
     "output_type": "display_data"
    }
   ],
   "source": [
    "# initialize wandb\n",
    "wandb.init(project=\"DenseNetFineTuning\", config={\"learning_rate\": 0.01, \"epochs\": 100, \"verbose\": 1,\"name\": \"DenseNet121\", \"architecture\": \"DenseNet121\"})\n",
    "\n",
    "# configs\n",
    "cfg = wandb.config\n",
    "\n",
    "# create the model\n",
    "model = create_densenet121_model_no_fc(len(train_ds.class_names))"
   ]
  },
  {
   "cell_type": "code",
   "execution_count": 4,
   "id": "ab66f7f3",
   "metadata": {},
   "outputs": [
    {
     "name": "stderr",
     "output_type": "stream",
     "text": [
      "\u001b[34m\u001b[1mwandb\u001b[0m: \u001b[33mWARNING\u001b[0m The save_model argument by default saves the model in the HDF5 format that cannot save custom objects like subclassed models and custom layers. This behavior will be deprecated in a future release in favor of the SavedModel format. Meanwhile, the HDF5 model is saved as W&B files and the SavedModel as W&B Artifacts.\n"
     ]
    }
   ],
   "source": [
    "\n",
    "# Add the custom callback to your list of callbacks\n",
    "fine_tune_callbacks = [\n",
    "    WandbCallback(mode=\"min\", monitor=\"val_loss\", save_graph=True),\n",
    "    tf.keras.callbacks.ReduceLROnPlateau(monitor='val_loss', factor=0.1, patience=3, min_lr=1e-6),\n",
    "    tf.keras.callbacks.EarlyStopping(monitor='val_loss', patience=5),\n",
    "]\n"
   ]
  },
  {
   "cell_type": "code",
   "execution_count": null,
   "id": "e40defb5",
   "metadata": {
    "collapsed": true,
    "jupyter": {
     "outputs_hidden": true
    }
   },
   "outputs": [
    {
     "name": "stdout",
     "output_type": "stream",
     "text": [
      "Epoch 1/100\n"
     ]
    },
    {
     "name": "stderr",
     "output_type": "stream",
     "text": [
      "2023-04-05 18:51:15.366759: I tensorflow/stream_executor/cuda/cuda_dnn.cc:377] Loaded cuDNN version 8302\n"
     ]
    },
    {
     "name": "stdout",
     "output_type": "stream",
     "text": [
      "13468/13468 [==============================] - 1956s 144ms/step - loss: 0.2945 - accuracy: 0.9011 - val_loss: 0.2016 - val_accuracy: 0.9385\n"
     ]
    },
    {
     "name": "stderr",
     "output_type": "stream",
     "text": [
      "2023-04-05 19:23:56.599607: W tensorflow/python/util/util.cc:368] Sets are not currently considered sequences, but this may change in the future, so consider avoiding using them.\n"
     ]
    },
    {
     "name": "stdout",
     "output_type": "stream",
     "text": [
      "INFO:tensorflow:Assets written to: /home/andreaspr/plankton_classification/models/densenet/wandb/run-20230405_185055-0mttj8st/files/model-best/assets\n"
     ]
    },
    {
     "name": "stderr",
     "output_type": "stream",
     "text": [
      "\u001b[34m\u001b[1mwandb\u001b[0m: Adding directory to artifact (/home/andreaspr/plankton_classification/models/densenet/wandb/run-20230405_185055-0mttj8st/files/model-best)... Done. 0.3s\n"
     ]
    },
    {
     "name": "stdout",
     "output_type": "stream",
     "text": [
      "Epoch 2/100\n",
      "13468/13468 [==============================] - 1939s 144ms/step - loss: 0.1861 - accuracy: 0.9379 - val_loss: 0.1427 - val_accuracy: 0.9580\n",
      "INFO:tensorflow:Assets written to: /home/andreaspr/plankton_classification/models/densenet/wandb/run-20230405_185055-0mttj8st/files/model-best/assets\n"
     ]
    },
    {
     "name": "stderr",
     "output_type": "stream",
     "text": [
      "\u001b[34m\u001b[1mwandb\u001b[0m: Adding directory to artifact (/home/andreaspr/plankton_classification/models/densenet/wandb/run-20230405_185055-0mttj8st/files/model-best)... Done. 0.3s\n"
     ]
    },
    {
     "name": "stdout",
     "output_type": "stream",
     "text": [
      "Epoch 3/100\n",
      "13468/13468 [==============================] - 1954s 145ms/step - loss: 0.1534 - accuracy: 0.9486 - val_loss: 1.3304 - val_accuracy: 0.6369\n",
      "Epoch 4/100\n",
      " 6081/13468 [============>.................] - ETA: 17:23 - loss: 0.1373 - accuracy: 0.9537"
     ]
    }
   ],
   "source": [
    "# Train the model with the callbacks\n",
    "model.fit(train_ds, epochs=cfg.epochs, batch_size=32, verbose=cfg.verbose, validation_data=val_ds, callbacks=fine_tune_callbacks)"
   ]
  },
  {
   "cell_type": "code",
   "execution_count": null,
   "id": "449e8380",
   "metadata": {},
   "outputs": [],
   "source": [
    "wandb.finish()"
   ]
  },
  {
   "cell_type": "markdown",
   "id": "61932376",
   "metadata": {},
   "source": [
    "# DenseNet169"
   ]
  },
  {
   "cell_type": "code",
   "execution_count": 3,
   "id": "229319db",
   "metadata": {},
   "outputs": [
    {
     "name": "stderr",
     "output_type": "stream",
     "text": [
      "Failed to detect the name of this notebook, you can set it manually with the WANDB_NOTEBOOK_NAME environment variable to enable code saving.\n",
      "\u001b[34m\u001b[1mwandb\u001b[0m: Currently logged in as: \u001b[33mandreaspri\u001b[0m (\u001b[33mnubs\u001b[0m). Use \u001b[1m`wandb login --relogin`\u001b[0m to force relogin\n"
     ]
    },
    {
     "data": {
      "text/html": [
       "wandb version 0.14.1 is available!  To upgrade, please run:\n",
       " $ pip install wandb --upgrade"
      ],
      "text/plain": [
       "<IPython.core.display.HTML object>"
      ]
     },
     "metadata": {},
     "output_type": "display_data"
    },
    {
     "data": {
      "text/html": [
       "Tracking run with wandb version 0.14.0"
      ],
      "text/plain": [
       "<IPython.core.display.HTML object>"
      ]
     },
     "metadata": {},
     "output_type": "display_data"
    },
    {
     "data": {
      "text/html": [
       "Run data is saved locally in <code>/home/andreaspr/plankton_classification/models/densenet/wandb/run-20230406_010722-5r5szw5s</code>"
      ],
      "text/plain": [
       "<IPython.core.display.HTML object>"
      ]
     },
     "metadata": {},
     "output_type": "display_data"
    },
    {
     "data": {
      "text/html": [
       "Syncing run <strong><a href='https://wandb.ai/nubs/DenseNetFineTuning/runs/5r5szw5s' target=\"_blank\">captain-tuvix-11</a></strong> to <a href='https://wandb.ai/nubs/DenseNetFineTuning' target=\"_blank\">Weights & Biases</a> (<a href='https://wandb.me/run' target=\"_blank\">docs</a>)<br/>"
      ],
      "text/plain": [
       "<IPython.core.display.HTML object>"
      ]
     },
     "metadata": {},
     "output_type": "display_data"
    },
    {
     "data": {
      "text/html": [
       " View project at <a href='https://wandb.ai/nubs/DenseNetFineTuning' target=\"_blank\">https://wandb.ai/nubs/DenseNetFineTuning</a>"
      ],
      "text/plain": [
       "<IPython.core.display.HTML object>"
      ]
     },
     "metadata": {},
     "output_type": "display_data"
    },
    {
     "data": {
      "text/html": [
       " View run at <a href='https://wandb.ai/nubs/DenseNetFineTuning/runs/5r5szw5s' target=\"_blank\">https://wandb.ai/nubs/DenseNetFineTuning/runs/5r5szw5s</a>"
      ],
      "text/plain": [
       "<IPython.core.display.HTML object>"
      ]
     },
     "metadata": {},
     "output_type": "display_data"
    }
   ],
   "source": [
    "# initialize wandb\n",
    "wandb.init(project=\"DenseNetFineTuning\", config={\"learning_rate\": 0.01, \"epochs\": 100, \"verbose\": 1,\"name\": \"DenseNet169\", \"architecture\": \"DenseNet169\"})\n",
    "\n",
    "# configs\n",
    "cfg = wandb.config\n",
    "\n",
    "# create the model\n",
    "model = create_densenet169_model_no_fc(len(train_ds.class_names))"
   ]
  },
  {
   "cell_type": "code",
   "execution_count": null,
   "id": "32c7c2a5",
   "metadata": {},
   "outputs": [
    {
     "name": "stdout",
     "output_type": "stream",
     "text": [
      "Epoch 1/100\n"
     ]
    },
    {
     "name": "stderr",
     "output_type": "stream",
     "text": [
      "2023-04-06 01:07:42.613152: I tensorflow/stream_executor/cuda/cuda_dnn.cc:377] Loaded cuDNN version 8302\n"
     ]
    },
    {
     "name": "stdout",
     "output_type": "stream",
     "text": [
      "13468/13468 [==============================] - 2421s 179ms/step - loss: 0.2969 - accuracy: 0.9007 - val_loss: 3.7007 - val_accuracy: 0.4152\n"
     ]
    },
    {
     "name": "stderr",
     "output_type": "stream",
     "text": [
      "2023-04-06 01:48:10.228390: W tensorflow/python/util/util.cc:368] Sets are not currently considered sequences, but this may change in the future, so consider avoiding using them.\n"
     ]
    },
    {
     "name": "stdout",
     "output_type": "stream",
     "text": [
      "INFO:tensorflow:Assets written to: /home/andreaspr/plankton_classification/models/densenet/wandb/run-20230406_010722-5r5szw5s/files/model-best/assets\n"
     ]
    },
    {
     "name": "stderr",
     "output_type": "stream",
     "text": [
      "\u001b[34m\u001b[1mwandb\u001b[0m: Adding directory to artifact (/home/andreaspr/plankton_classification/models/densenet/wandb/run-20230406_010722-5r5szw5s/files/model-best)... Done. 0.5s\n"
     ]
    },
    {
     "name": "stdout",
     "output_type": "stream",
     "text": [
      "Epoch 2/100\n",
      "13468/13468 [==============================] - 2541s 189ms/step - loss: 0.1819 - accuracy: 0.9394 - val_loss: 0.2014 - val_accuracy: 0.9361\n",
      "INFO:tensorflow:Assets written to: /home/andreaspr/plankton_classification/models/densenet/wandb/run-20230406_010722-5r5szw5s/files/model-best/assets\n"
     ]
    },
    {
     "name": "stderr",
     "output_type": "stream",
     "text": [
      "\u001b[34m\u001b[1mwandb\u001b[0m: Adding directory to artifact (/home/andreaspr/plankton_classification/models/densenet/wandb/run-20230406_010722-5r5szw5s/files/model-best)... Done. 0.5s\n"
     ]
    },
    {
     "name": "stdout",
     "output_type": "stream",
     "text": [
      "Epoch 3/100\n",
      "13468/13468 [==============================] - 2545s 189ms/step - loss: 0.1489 - accuracy: 0.9501 - val_loss: 0.5405 - val_accuracy: 0.8388\n",
      "Epoch 4/100\n",
      " 4593/13468 [=========>....................] - ETA: 27:11 - loss: 0.1340 - accuracy: 0.9546"
     ]
    }
   ],
   "source": [
    "# Train the model with the callbacks\n",
    "model.fit(train_ds, epochs=cfg.epochs, batch_size=32, verbose=cfg.verbose, validation_data=val_ds, callbacks=fine_tune_callbacks)"
   ]
  },
  {
   "cell_type": "code",
   "execution_count": null,
   "id": "70e9f13d",
   "metadata": {},
   "outputs": [],
   "source": [
    "wandb.finish()"
   ]
  },
  {
   "cell_type": "markdown",
   "id": "814ddc20",
   "metadata": {},
   "source": [
    "# DenseNet201"
   ]
  },
  {
   "cell_type": "code",
   "execution_count": null,
   "id": "bcdf0c37",
   "metadata": {},
   "outputs": [],
   "source": [
    "# initialize wandb\n",
    "wandb.init(project=\"DenseNetFineTuning\", config={\"learning_rate\": 0.01, \"epochs\": 100, \"verbose\": 1,\"name\": \"DenseNet201\", \"architecture\": \"DenseNet201\"})\n",
    "\n",
    "# configs\n",
    "cfg = wandb.config\n",
    "\n",
    "# create the model\n",
    "model = create_densenet201_model_no_fc(len(train_ds.class_names))"
   ]
  },
  {
   "cell_type": "code",
   "execution_count": null,
   "id": "768ab509",
   "metadata": {},
   "outputs": [],
   "source": [
    "# Train the model with the callbacks\n",
    "model.fit(train_ds, epochs=cfg.epochs, batch_size=32, verbose=cfg.verbose, validation_data=val_ds, callbacks=fine_tune_callbacks)"
   ]
  },
  {
   "cell_type": "code",
   "execution_count": null,
   "id": "70dceaba",
   "metadata": {},
   "outputs": [],
   "source": [
    "wandb.finish()"
   ]
  }
 ],
 "metadata": {
  "kernelspec": {
   "display_name": "Python 3 (ipykernel)",
   "language": "python",
   "name": "python3"
  },
  "language_info": {
   "codemirror_mode": {
    "name": "ipython",
    "version": 3
   },
   "file_extension": ".py",
   "mimetype": "text/x-python",
   "name": "python",
   "nbconvert_exporter": "python",
   "pygments_lexer": "ipython3",
   "version": "3.8.10"
  }
 },
 "nbformat": 4,
 "nbformat_minor": 5
}
