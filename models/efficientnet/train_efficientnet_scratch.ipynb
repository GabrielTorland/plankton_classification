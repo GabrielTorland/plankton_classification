{
 "cells": [
  {
   "cell_type": "code",
   "execution_count": 1,
   "metadata": {},
   "outputs": [],
   "source": [
    "from tensorflow.keras import layers, models\n",
    "from tensorflow.keras.applications import EfficientNetB0 \n",
    "from tensorflow.keras.utils import image_dataset_from_directory\n",
    "from tensorflow.keras.optimizers import RMSprop\n",
    "import wandb\n",
    "from wandb.keras import WandbCallback\n",
    "from tensorflow.keras.callbacks import ReduceLROnPlateau, EarlyStopping"
   ]
  },
  {
   "cell_type": "markdown",
   "metadata": {},
   "source": [
    "# Loading Data Set\n",
    "Three sets are created: training, validation, and test. \n",
    "- Labels are generated based on the folder structure. Class name must correspond to the subfolder name.\n",
    "- Loading in batches, of size 32, to reduce memory usage.\n",
    "- Label mode is set to categorical, which means that the labels are encoded as a categorical vector.\n",
    "\n",
    "Bilinear interploation is set to default. This specify the method used in the resizing procedure. By default aspect ratio is not perserved, i.e., the ratio between image width and height.\n",
    "\n",
    "One hot encoding is utilized when label mode is set to categorical.\n",
    "\n",
    "\n",
    "The image load documentation is available [here](https://www.tensorflow.org/api_docs/python/tf/keras/utils/image_dataset_from_directory) and an example is available [here](https://keras.io/api/data_loading/image/)."
   ]
  },
  {
   "cell_type": "code",
   "execution_count": 2,
   "metadata": {},
   "outputs": [
    {
     "name": "stdout",
     "output_type": "stream",
     "text": [
      "Found 430968 files belonging to 12 classes.\n"
     ]
    },
    {
     "name": "stderr",
     "output_type": "stream",
     "text": [
      "2023-04-10 20:14:38.395621: I tensorflow/core/common_runtime/gpu/gpu_device.cc:1525] Created device /job:localhost/replica:0/task:0/device:GPU:0 with 30994 MB memory:  -> device: 0, name: Tesla V100-SXM3-32GB, pci bus id: 0000:b7:00.0, compute capability: 7.0\n"
     ]
    },
    {
     "name": "stdout",
     "output_type": "stream",
     "text": [
      "Found 37219 files belonging to 12 classes.\n"
     ]
    }
   ],
   "source": [
    "train_ds = image_dataset_from_directory(\n",
    "    directory=\"datasets/dataset_v7/train\",\n",
    "    labels='inferred',\n",
    "    label_mode='categorical',\n",
    "    shuffle=True,\n",
    "    batch_size=32,\n",
    "    image_size=(224, 224)\n",
    "    )\n",
    "val_ds = image_dataset_from_directory(\n",
    "    directory=\"datasets/dataset_v7/val\",\n",
    "    labels='inferred',\n",
    "    label_mode='categorical',\n",
    "    shuffle=True,\n",
    "    batch_size=32,\n",
    "    image_size=(224, 224)\n",
    "    )"
   ]
  },
  {
   "cell_type": "markdown",
   "metadata": {},
   "source": [
    "# EfficientNetB0"
   ]
  },
  {
   "cell_type": "code",
   "execution_count": 3,
   "metadata": {},
   "outputs": [
    {
     "name": "stderr",
     "output_type": "stream",
     "text": [
      "Failed to detect the name of this notebook, you can set it manually with the WANDB_NOTEBOOK_NAME environment variable to enable code saving.\n",
      "\u001b[34m\u001b[1mwandb\u001b[0m: Currently logged in as: \u001b[33mgabri-torland\u001b[0m (\u001b[33mnubs\u001b[0m). Use \u001b[1m`wandb login --relogin`\u001b[0m to force relogin\n"
     ]
    },
    {
     "data": {
      "text/html": [
       "wandb version 0.14.2 is available!  To upgrade, please run:\n",
       " $ pip install wandb --upgrade"
      ],
      "text/plain": [
       "<IPython.core.display.HTML object>"
      ]
     },
     "metadata": {},
     "output_type": "display_data"
    },
    {
     "data": {
      "text/html": [
       "Tracking run with wandb version 0.13.10"
      ],
      "text/plain": [
       "<IPython.core.display.HTML object>"
      ]
     },
     "metadata": {},
     "output_type": "display_data"
    },
    {
     "data": {
      "text/html": [
       "Run data is saved locally in <code>/home/gabrielt/plankton/models/efficientnet/wandb/run-20230410_201442-b8nzh89y</code>"
      ],
      "text/plain": [
       "<IPython.core.display.HTML object>"
      ]
     },
     "metadata": {},
     "output_type": "display_data"
    },
    {
     "data": {
      "text/html": [
       "Syncing run <strong><a href='https://wandb.ai/nubs/EfficientNetB0/runs/b8nzh89y' target=\"_blank\">apricot-puddle-14</a></strong> to <a href='https://wandb.ai/nubs/EfficientNetB0' target=\"_blank\">Weights & Biases</a> (<a href='https://wandb.me/run' target=\"_blank\">docs</a>)<br/>"
      ],
      "text/plain": [
       "<IPython.core.display.HTML object>"
      ]
     },
     "metadata": {},
     "output_type": "display_data"
    },
    {
     "data": {
      "text/html": [
       " View project at <a href='https://wandb.ai/nubs/EfficientNetB0' target=\"_blank\">https://wandb.ai/nubs/EfficientNetB0</a>"
      ],
      "text/plain": [
       "<IPython.core.display.HTML object>"
      ]
     },
     "metadata": {},
     "output_type": "display_data"
    },
    {
     "data": {
      "text/html": [
       " View run at <a href='https://wandb.ai/nubs/EfficientNetB0/runs/b8nzh89y' target=\"_blank\">https://wandb.ai/nubs/EfficientNetB0/runs/b8nzh89y</a>"
      ],
      "text/plain": [
       "<IPython.core.display.HTML object>"
      ]
     },
     "metadata": {},
     "output_type": "display_data"
    }
   ],
   "source": [
    "# initialize wandb\n",
    "run = wandb.init(project=\"EfficientNetB0\", config={\"learning_rate\": 0.0256,\n",
    "                                               \"epochs\": 100, \n",
    "                                               \"momentum\": 0.9,\n",
    "                                               \"weight_decay\": 1e-5,\n",
    "                                               \"batch_size\": 256,\n",
    "                                               \"input_shape\": (224, 224, 3),\n",
    "                                               \"optimizer\": \"RMSProp\",\n",
    "                                               \"loss\": \"categorical_crossentropy\",\n",
    "                                               \"metrics\": [\"accuracy\"],\n",
    "                                               \"verbose\": 1,\n",
    "                                               \"name\": \"EfficientNetB0\",\n",
    "                                               \"architecture\": \"EfficientNetB0\"\n",
    "                                              })\n",
    "\n",
    "# configs\n",
    "cfg = wandb.config"
   ]
  },
  {
   "cell_type": "markdown",
   "metadata": {},
   "source": [
    "## Build the model\n",
    "The hyperparameters and fully connected layers closely resemble those employed in the 2015 paper that first presented residual networks. The paper is available here: http://arxiv.org/abs/1512.03385"
   ]
  },
  {
   "cell_type": "code",
   "execution_count": 4,
   "metadata": {},
   "outputs": [],
   "source": [
    "base_model = EfficientNetB0(weights='imagenet', include_top=False, input_shape=cfg.input_shape)\n",
    "x = base_model.output\n",
    "x = layers.GlobalAveragePooling2D()(x)\n",
    "predictions = layers.Dense(len(train_ds.class_names), activation='softmax')(x)\n",
    "\n",
    "model = models.Model(inputs=base_model.input, outputs=predictions)"
   ]
  },
  {
   "cell_type": "markdown",
   "metadata": {},
   "source": [
    "## Compile the model"
   ]
  },
  {
   "cell_type": "code",
   "execution_count": 5,
   "metadata": {},
   "outputs": [],
   "source": [
    "model.compile(optimizer=RMSprop(learning_rate=cfg.learning_rate, rho=0.9, momentum=cfg.momentum, decay=cfg.weight_decay),\n",
    "              loss=cfg.loss,\n",
    "              metrics=cfg.metrics)"
   ]
  },
  {
   "cell_type": "markdown",
   "metadata": {},
   "source": [
    "## Train the model"
   ]
  },
  {
   "cell_type": "code",
   "execution_count": 6,
   "metadata": {},
   "outputs": [
    {
     "name": "stderr",
     "output_type": "stream",
     "text": [
      "\u001b[34m\u001b[1mwandb\u001b[0m: \u001b[33mWARNING\u001b[0m The save_model argument by default saves the model in the HDF5 format that cannot save custom objects like subclassed models and custom layers. This behavior will be deprecated in a future release in favor of the SavedModel format. Meanwhile, the HDF5 model is saved as W&B files and the SavedModel as W&B Artifacts.\n",
      "Exception in thread SystemMonitor:\n",
      "Traceback (most recent call last):\n",
      "  File \"/usr/lib/python3.8/threading.py\", line 932, in _bootstrap_inner\n",
      "    self.run()\n",
      "  File \"/usr/lib/python3.8/threading.py\", line 870, in run\n",
      "    self._target(*self._args, **self._kwargs)\n",
      "  File \"/home/gabrielt/.local/lib/python3.8/site-packages/wandb/sdk/internal/system/system_monitor.py\", line 118, in _start\n",
      "    asset.start()\n",
      "  File \"/home/gabrielt/.local/lib/python3.8/site-packages/wandb/sdk/internal/system/assets/disk.py\", line 76, in start\n",
      "    self.metrics_monitor.start()\n",
      "  File \"/home/gabrielt/.local/lib/python3.8/site-packages/wandb/sdk/internal/system/assets/interfaces.py\", line 168, in start\n",
      "    logger.info(f\"Started {self._process.name}\")\n",
      "AttributeError: 'NoneType' object has no attribute 'name'\n"
     ]
    }
   ],
   "source": [
    "# list of callbacks\n",
    "callbacks = [\n",
    "            WandbCallback(mode=\"min\", monitor=\"val_loss\", save_graph=True),\n",
    "            EarlyStopping(monitor='val_loss', patience=10, mode=\"min\"),\n",
    "          ]"
   ]
  },
  {
   "cell_type": "code",
   "execution_count": null,
   "metadata": {},
   "outputs": [
    {
     "name": "stdout",
     "output_type": "stream",
     "text": [
      "Epoch 1/100\n"
     ]
    },
    {
     "name": "stderr",
     "output_type": "stream",
     "text": [
      "2023-04-10 20:14:55.434102: I tensorflow/stream_executor/cuda/cuda_dnn.cc:377] Loaded cuDNN version 8302\n"
     ]
    },
    {
     "name": "stdout",
     "output_type": "stream",
     "text": [
      " 1747/13468 [==>...........................] - ETA: 35:42 - loss: 2.2458 - accuracy: 0.4088"
     ]
    }
   ],
   "source": [
    "model.fit(train_ds, epochs=cfg.epochs, batch_size=cfg.batch_size, verbose=cfg.verbose, validation_data=val_ds, callbacks=callbacks)"
   ]
  },
  {
   "cell_type": "code",
   "execution_count": null,
   "metadata": {},
   "outputs": [],
   "source": [
    "wandb.finish()"
   ]
  }
 ],
 "metadata": {
  "kernelspec": {
   "display_name": "Python 3 (ipykernel)",
   "language": "python",
   "name": "python3"
  },
  "language_info": {
   "codemirror_mode": {
    "name": "ipython",
    "version": 3
   },
   "file_extension": ".py",
   "mimetype": "text/x-python",
   "name": "python",
   "nbconvert_exporter": "python",
   "pygments_lexer": "ipython3",
   "version": "3.8.10"
  },
  "vscode": {
   "interpreter": {
    "hash": "e7370f93d1d0cde622a1f8e1c04877d8463912d04d973331ad4851f04de6915a"
   }
  }
 },
 "nbformat": 4,
 "nbformat_minor": 4
}
